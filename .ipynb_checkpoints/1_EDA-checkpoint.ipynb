{
 "cells": [
  {
   "cell_type": "markdown",
   "metadata": {},
   "source": [
    "# Exploratory Data Analysis\n",
    "\n",
    "In this notebook we do some simple exploratory of the data given."
   ]
  },
  {
   "cell_type": "code",
   "execution_count": 1,
   "metadata": {},
   "outputs": [],
   "source": [
    "import matplotlib.pyplot as plt\n",
    "import pandas as pd\n",
    "import numpy as np\n",
    "from PIL import Image"
   ]
  },
  {
   "cell_type": "code",
   "execution_count": 2,
   "metadata": {},
   "outputs": [
    {
     "data": {
      "text/html": [
       "<div>\n",
       "<style scoped>\n",
       "    .dataframe tbody tr th:only-of-type {\n",
       "        vertical-align: middle;\n",
       "    }\n",
       "\n",
       "    .dataframe tbody tr th {\n",
       "        vertical-align: top;\n",
       "    }\n",
       "\n",
       "    .dataframe thead th {\n",
       "        text-align: right;\n",
       "    }\n",
       "</style>\n",
       "<table border=\"1\" class=\"dataframe\">\n",
       "  <thead>\n",
       "    <tr style=\"text-align: right;\">\n",
       "      <th></th>\n",
       "      <th>id</th>\n",
       "      <th>year</th>\n",
       "      <th>make</th>\n",
       "      <th>model</th>\n",
       "      <th>trim1</th>\n",
       "      <th>trim2</th>\n",
       "    </tr>\n",
       "  </thead>\n",
       "  <tbody>\n",
       "    <tr>\n",
       "      <th>0</th>\n",
       "      <td>0004d4463b50</td>\n",
       "      <td>2014.0</td>\n",
       "      <td>Acura</td>\n",
       "      <td>TL</td>\n",
       "      <td>TL</td>\n",
       "      <td>w/SE</td>\n",
       "    </tr>\n",
       "    <tr>\n",
       "      <th>1</th>\n",
       "      <td>00087a6bd4dc</td>\n",
       "      <td>2014.0</td>\n",
       "      <td>Acura</td>\n",
       "      <td>RLX</td>\n",
       "      <td>RLX</td>\n",
       "      <td>w/Tech</td>\n",
       "    </tr>\n",
       "    <tr>\n",
       "      <th>2</th>\n",
       "      <td>000aa097d423</td>\n",
       "      <td>2012.0</td>\n",
       "      <td>Mazda</td>\n",
       "      <td>MAZDA6</td>\n",
       "      <td>MAZDA6</td>\n",
       "      <td>i Sport</td>\n",
       "    </tr>\n",
       "    <tr>\n",
       "      <th>3</th>\n",
       "      <td>000f19f6e7d4</td>\n",
       "      <td>2016.0</td>\n",
       "      <td>Chevrolet</td>\n",
       "      <td>Camaro</td>\n",
       "      <td>Camaro</td>\n",
       "      <td>SS</td>\n",
       "    </tr>\n",
       "    <tr>\n",
       "      <th>4</th>\n",
       "      <td>00144e887ae9</td>\n",
       "      <td>2015.0</td>\n",
       "      <td>Acura</td>\n",
       "      <td>TLX</td>\n",
       "      <td>TLX</td>\n",
       "      <td>SH-AWD V6 w/Advance Pkg</td>\n",
       "    </tr>\n",
       "  </tbody>\n",
       "</table>\n",
       "</div>"
      ],
      "text/plain": [
       "             id    year       make   model   trim1                    trim2\n",
       "0  0004d4463b50  2014.0      Acura      TL      TL                     w/SE\n",
       "1  00087a6bd4dc  2014.0      Acura     RLX     RLX                   w/Tech\n",
       "2  000aa097d423  2012.0      Mazda  MAZDA6  MAZDA6                  i Sport\n",
       "3  000f19f6e7d4  2016.0  Chevrolet  Camaro  Camaro                       SS\n",
       "4  00144e887ae9  2015.0      Acura     TLX     TLX  SH-AWD V6 w/Advance Pkg"
      ]
     },
     "execution_count": 2,
     "metadata": {},
     "output_type": "execute_result"
    }
   ],
   "source": [
    "metadata = pd.read_csv('data/metadata.csv')\n",
    "metadata.head()"
   ]
  },
  {
   "cell_type": "code",
   "execution_count": 3,
   "metadata": {},
   "outputs": [
    {
     "data": {
      "text/html": [
       "<div>\n",
       "<style scoped>\n",
       "    .dataframe tbody tr th:only-of-type {\n",
       "        vertical-align: middle;\n",
       "    }\n",
       "\n",
       "    .dataframe tbody tr th {\n",
       "        vertical-align: top;\n",
       "    }\n",
       "\n",
       "    .dataframe thead th {\n",
       "        text-align: right;\n",
       "    }\n",
       "</style>\n",
       "<table border=\"1\" class=\"dataframe\">\n",
       "  <thead>\n",
       "    <tr style=\"text-align: right;\">\n",
       "      <th></th>\n",
       "      <th>img</th>\n",
       "      <th>rle_mask</th>\n",
       "    </tr>\n",
       "  </thead>\n",
       "  <tbody>\n",
       "    <tr>\n",
       "      <th>0</th>\n",
       "      <td>00087a6bd4dc_01.jpg</td>\n",
       "      <td>879386 40 881253 141 883140 205 885009 17 8850...</td>\n",
       "    </tr>\n",
       "    <tr>\n",
       "      <th>1</th>\n",
       "      <td>00087a6bd4dc_02.jpg</td>\n",
       "      <td>873779 4 875695 7 877612 9 879528 12 881267 15...</td>\n",
       "    </tr>\n",
       "    <tr>\n",
       "      <th>2</th>\n",
       "      <td>00087a6bd4dc_03.jpg</td>\n",
       "      <td>864300 9 866217 13 868134 15 870051 16 871969 ...</td>\n",
       "    </tr>\n",
       "    <tr>\n",
       "      <th>3</th>\n",
       "      <td>00087a6bd4dc_04.jpg</td>\n",
       "      <td>879735 20 881650 26 883315 92 883564 30 885208...</td>\n",
       "    </tr>\n",
       "    <tr>\n",
       "      <th>4</th>\n",
       "      <td>00087a6bd4dc_05.jpg</td>\n",
       "      <td>883365 74 883638 28 885262 119 885550 34 88716...</td>\n",
       "    </tr>\n",
       "  </tbody>\n",
       "</table>\n",
       "</div>"
      ],
      "text/plain": [
       "                   img                                           rle_mask\n",
       "0  00087a6bd4dc_01.jpg  879386 40 881253 141 883140 205 885009 17 8850...\n",
       "1  00087a6bd4dc_02.jpg  873779 4 875695 7 877612 9 879528 12 881267 15...\n",
       "2  00087a6bd4dc_03.jpg  864300 9 866217 13 868134 15 870051 16 871969 ...\n",
       "3  00087a6bd4dc_04.jpg  879735 20 881650 26 883315 92 883564 30 885208...\n",
       "4  00087a6bd4dc_05.jpg  883365 74 883638 28 885262 119 885550 34 88716..."
      ]
     },
     "execution_count": 3,
     "metadata": {},
     "output_type": "execute_result"
    }
   ],
   "source": [
    "cars = pd.read_csv('data/train_masks.csv')\n",
    "cars.head()"
   ]
  },
  {
   "cell_type": "code",
   "execution_count": 4,
   "metadata": {},
   "outputs": [
    {
     "data": {
      "text/plain": [
       "(5088, 2)"
      ]
     },
     "execution_count": 4,
     "metadata": {},
     "output_type": "execute_result"
    }
   ],
   "source": [
    "cars.shape"
   ]
  },
  {
   "cell_type": "code",
   "execution_count": 5,
   "metadata": {},
   "outputs": [],
   "source": [
    "def get_mask_file(image_file):\n",
    "    \n",
    "    img_file_split = image_file.split('.')\n",
    "    \n",
    "    mask_file = img_file_split[0] + '_mask.gif'\n",
    "    \n",
    "    return mask_file"
   ]
  },
  {
   "cell_type": "code",
   "execution_count": 6,
   "metadata": {},
   "outputs": [],
   "source": [
    "def get_id(image_file):\n",
    "    \n",
    "    imagefile_split = image_file.split('_')\n",
    "\n",
    "    car_id = imagefile_split[0]\n",
    "    \n",
    "    return car_id"
   ]
  },
  {
   "cell_type": "code",
   "execution_count": 7,
   "metadata": {},
   "outputs": [
    {
     "data": {
      "text/html": [
       "<div>\n",
       "<style scoped>\n",
       "    .dataframe tbody tr th:only-of-type {\n",
       "        vertical-align: middle;\n",
       "    }\n",
       "\n",
       "    .dataframe tbody tr th {\n",
       "        vertical-align: top;\n",
       "    }\n",
       "\n",
       "    .dataframe thead th {\n",
       "        text-align: right;\n",
       "    }\n",
       "</style>\n",
       "<table border=\"1\" class=\"dataframe\">\n",
       "  <thead>\n",
       "    <tr style=\"text-align: right;\">\n",
       "      <th></th>\n",
       "      <th>img</th>\n",
       "      <th>rle_mask</th>\n",
       "      <th>mask_file</th>\n",
       "      <th>id</th>\n",
       "    </tr>\n",
       "  </thead>\n",
       "  <tbody>\n",
       "    <tr>\n",
       "      <th>0</th>\n",
       "      <td>00087a6bd4dc_01.jpg</td>\n",
       "      <td>879386 40 881253 141 883140 205 885009 17 8850...</td>\n",
       "      <td>00087a6bd4dc_01_mask.gif</td>\n",
       "      <td>00087a6bd4dc</td>\n",
       "    </tr>\n",
       "    <tr>\n",
       "      <th>1</th>\n",
       "      <td>00087a6bd4dc_02.jpg</td>\n",
       "      <td>873779 4 875695 7 877612 9 879528 12 881267 15...</td>\n",
       "      <td>00087a6bd4dc_02_mask.gif</td>\n",
       "      <td>00087a6bd4dc</td>\n",
       "    </tr>\n",
       "    <tr>\n",
       "      <th>2</th>\n",
       "      <td>00087a6bd4dc_03.jpg</td>\n",
       "      <td>864300 9 866217 13 868134 15 870051 16 871969 ...</td>\n",
       "      <td>00087a6bd4dc_03_mask.gif</td>\n",
       "      <td>00087a6bd4dc</td>\n",
       "    </tr>\n",
       "    <tr>\n",
       "      <th>3</th>\n",
       "      <td>00087a6bd4dc_04.jpg</td>\n",
       "      <td>879735 20 881650 26 883315 92 883564 30 885208...</td>\n",
       "      <td>00087a6bd4dc_04_mask.gif</td>\n",
       "      <td>00087a6bd4dc</td>\n",
       "    </tr>\n",
       "    <tr>\n",
       "      <th>4</th>\n",
       "      <td>00087a6bd4dc_05.jpg</td>\n",
       "      <td>883365 74 883638 28 885262 119 885550 34 88716...</td>\n",
       "      <td>00087a6bd4dc_05_mask.gif</td>\n",
       "      <td>00087a6bd4dc</td>\n",
       "    </tr>\n",
       "  </tbody>\n",
       "</table>\n",
       "</div>"
      ],
      "text/plain": [
       "                   img                                           rle_mask  \\\n",
       "0  00087a6bd4dc_01.jpg  879386 40 881253 141 883140 205 885009 17 8850...   \n",
       "1  00087a6bd4dc_02.jpg  873779 4 875695 7 877612 9 879528 12 881267 15...   \n",
       "2  00087a6bd4dc_03.jpg  864300 9 866217 13 868134 15 870051 16 871969 ...   \n",
       "3  00087a6bd4dc_04.jpg  879735 20 881650 26 883315 92 883564 30 885208...   \n",
       "4  00087a6bd4dc_05.jpg  883365 74 883638 28 885262 119 885550 34 88716...   \n",
       "\n",
       "                  mask_file            id  \n",
       "0  00087a6bd4dc_01_mask.gif  00087a6bd4dc  \n",
       "1  00087a6bd4dc_02_mask.gif  00087a6bd4dc  \n",
       "2  00087a6bd4dc_03_mask.gif  00087a6bd4dc  \n",
       "3  00087a6bd4dc_04_mask.gif  00087a6bd4dc  \n",
       "4  00087a6bd4dc_05_mask.gif  00087a6bd4dc  "
      ]
     },
     "execution_count": 7,
     "metadata": {},
     "output_type": "execute_result"
    }
   ],
   "source": [
    "cars['mask_file'] = cars['img'].apply(get_mask_file)\n",
    "cars['id'] = cars['img'].apply(get_id)\n",
    "cars.head()"
   ]
  },
  {
   "cell_type": "code",
   "execution_count": 8,
   "metadata": {},
   "outputs": [
    {
     "data": {
      "text/html": [
       "<div>\n",
       "<style scoped>\n",
       "    .dataframe tbody tr th:only-of-type {\n",
       "        vertical-align: middle;\n",
       "    }\n",
       "\n",
       "    .dataframe tbody tr th {\n",
       "        vertical-align: top;\n",
       "    }\n",
       "\n",
       "    .dataframe thead th {\n",
       "        text-align: right;\n",
       "    }\n",
       "</style>\n",
       "<table border=\"1\" class=\"dataframe\">\n",
       "  <thead>\n",
       "    <tr style=\"text-align: right;\">\n",
       "      <th></th>\n",
       "      <th>id</th>\n",
       "      <th>img</th>\n",
       "      <th>mask_file</th>\n",
       "      <th>rle_mask</th>\n",
       "      <th>year</th>\n",
       "      <th>make</th>\n",
       "      <th>model</th>\n",
       "      <th>trim1</th>\n",
       "      <th>trim2</th>\n",
       "    </tr>\n",
       "  </thead>\n",
       "  <tbody>\n",
       "    <tr>\n",
       "      <th>0</th>\n",
       "      <td>00087a6bd4dc</td>\n",
       "      <td>00087a6bd4dc_01.jpg</td>\n",
       "      <td>00087a6bd4dc_01_mask.gif</td>\n",
       "      <td>879386 40 881253 141 883140 205 885009 17 8850...</td>\n",
       "      <td>2014.0</td>\n",
       "      <td>Acura</td>\n",
       "      <td>RLX</td>\n",
       "      <td>RLX</td>\n",
       "      <td>w/Tech</td>\n",
       "    </tr>\n",
       "    <tr>\n",
       "      <th>1</th>\n",
       "      <td>00087a6bd4dc</td>\n",
       "      <td>00087a6bd4dc_02.jpg</td>\n",
       "      <td>00087a6bd4dc_02_mask.gif</td>\n",
       "      <td>873779 4 875695 7 877612 9 879528 12 881267 15...</td>\n",
       "      <td>2014.0</td>\n",
       "      <td>Acura</td>\n",
       "      <td>RLX</td>\n",
       "      <td>RLX</td>\n",
       "      <td>w/Tech</td>\n",
       "    </tr>\n",
       "    <tr>\n",
       "      <th>2</th>\n",
       "      <td>00087a6bd4dc</td>\n",
       "      <td>00087a6bd4dc_03.jpg</td>\n",
       "      <td>00087a6bd4dc_03_mask.gif</td>\n",
       "      <td>864300 9 866217 13 868134 15 870051 16 871969 ...</td>\n",
       "      <td>2014.0</td>\n",
       "      <td>Acura</td>\n",
       "      <td>RLX</td>\n",
       "      <td>RLX</td>\n",
       "      <td>w/Tech</td>\n",
       "    </tr>\n",
       "    <tr>\n",
       "      <th>3</th>\n",
       "      <td>00087a6bd4dc</td>\n",
       "      <td>00087a6bd4dc_04.jpg</td>\n",
       "      <td>00087a6bd4dc_04_mask.gif</td>\n",
       "      <td>879735 20 881650 26 883315 92 883564 30 885208...</td>\n",
       "      <td>2014.0</td>\n",
       "      <td>Acura</td>\n",
       "      <td>RLX</td>\n",
       "      <td>RLX</td>\n",
       "      <td>w/Tech</td>\n",
       "    </tr>\n",
       "    <tr>\n",
       "      <th>4</th>\n",
       "      <td>00087a6bd4dc</td>\n",
       "      <td>00087a6bd4dc_05.jpg</td>\n",
       "      <td>00087a6bd4dc_05_mask.gif</td>\n",
       "      <td>883365 74 883638 28 885262 119 885550 34 88716...</td>\n",
       "      <td>2014.0</td>\n",
       "      <td>Acura</td>\n",
       "      <td>RLX</td>\n",
       "      <td>RLX</td>\n",
       "      <td>w/Tech</td>\n",
       "    </tr>\n",
       "  </tbody>\n",
       "</table>\n",
       "</div>"
      ],
      "text/plain": [
       "             id                  img                 mask_file  \\\n",
       "0  00087a6bd4dc  00087a6bd4dc_01.jpg  00087a6bd4dc_01_mask.gif   \n",
       "1  00087a6bd4dc  00087a6bd4dc_02.jpg  00087a6bd4dc_02_mask.gif   \n",
       "2  00087a6bd4dc  00087a6bd4dc_03.jpg  00087a6bd4dc_03_mask.gif   \n",
       "3  00087a6bd4dc  00087a6bd4dc_04.jpg  00087a6bd4dc_04_mask.gif   \n",
       "4  00087a6bd4dc  00087a6bd4dc_05.jpg  00087a6bd4dc_05_mask.gif   \n",
       "\n",
       "                                            rle_mask    year   make model  \\\n",
       "0  879386 40 881253 141 883140 205 885009 17 8850...  2014.0  Acura   RLX   \n",
       "1  873779 4 875695 7 877612 9 879528 12 881267 15...  2014.0  Acura   RLX   \n",
       "2  864300 9 866217 13 868134 15 870051 16 871969 ...  2014.0  Acura   RLX   \n",
       "3  879735 20 881650 26 883315 92 883564 30 885208...  2014.0  Acura   RLX   \n",
       "4  883365 74 883638 28 885262 119 885550 34 88716...  2014.0  Acura   RLX   \n",
       "\n",
       "  trim1   trim2  \n",
       "0   RLX  w/Tech  \n",
       "1   RLX  w/Tech  \n",
       "2   RLX  w/Tech  \n",
       "3   RLX  w/Tech  \n",
       "4   RLX  w/Tech  "
      ]
     },
     "execution_count": 8,
     "metadata": {},
     "output_type": "execute_result"
    }
   ],
   "source": [
    "cars_final = cars.merge(metadata, on = 'id')\n",
    "cars_final = cars_final[['id', 'img', 'mask_file', 'rle_mask', \n",
    "                   'year', 'make', 'model', 'trim1', 'trim2']]\n",
    "cars_final.head()"
   ]
  },
  {
   "cell_type": "markdown",
   "metadata": {},
   "source": [
    "We merge the matadata and rle mask dataset into one. This will help us control the process of creating the dataset and predictions as well.\n",
    "\n",
    "The image and mask files will be used later to create the Tensorflow image dataset in the next notebook."
   ]
  },
  {
   "cell_type": "code",
   "execution_count": 9,
   "metadata": {},
   "outputs": [
    {
     "data": {
      "text/plain": [
       "(5088, 9)"
      ]
     },
     "execution_count": 9,
     "metadata": {},
     "output_type": "execute_result"
    }
   ],
   "source": [
    "cars_final.shape"
   ]
  },
  {
   "cell_type": "code",
   "execution_count": 10,
   "metadata": {},
   "outputs": [
    {
     "data": {
      "text/plain": [
       "5a194c1384f3    16\n",
       "31186febd775    16\n",
       "5ab34f0e3ea5    16\n",
       "bb7625a3f1d4    16\n",
       "fdc2c87853ce    16\n",
       "                ..\n",
       "ce74dfdf123b    16\n",
       "f98dbe8a5ee2    16\n",
       "3cb21125f126    16\n",
       "33a310ea7462    16\n",
       "6cc98271f4dd    16\n",
       "Name: id, Length: 318, dtype: int64"
      ]
     },
     "execution_count": 10,
     "metadata": {},
     "output_type": "execute_result"
    }
   ],
   "source": [
    "cars_final['id'].value_counts()"
   ]
  },
  {
   "cell_type": "code",
   "execution_count": 11,
   "metadata": {},
   "outputs": [
    {
     "data": {
      "text/plain": [
       "5088"
      ]
     },
     "execution_count": 11,
     "metadata": {},
     "output_type": "execute_result"
    }
   ],
   "source": [
    "318*16"
   ]
  },
  {
   "cell_type": "code",
   "execution_count": 12,
   "metadata": {},
   "outputs": [],
   "source": [
    "cars_final.to_csv('data/train_final.csv', index = False)"
   ]
  },
  {
   "cell_type": "markdown",
   "metadata": {},
   "source": [
    "## Run-Length Encoding and Decoding of Images\n",
    "\n",
    "For this Kaggle challenge, the submissions are expected to be made in the RLE format.  \n",
    "For this section we will create and test functions to do both run-length encoding and decoding."
   ]
  },
  {
   "cell_type": "code",
   "execution_count": 13,
   "metadata": {},
   "outputs": [
    {
     "data": {
      "text/plain": [
       "<matplotlib.image.AxesImage at 0x7ffcb7355be0>"
      ]
     },
     "execution_count": 13,
     "metadata": {},
     "output_type": "execute_result"
    },
    {
     "data": {
      "image/png": "[encoded data removed]",
      "text/plain": [
       "<Figure size 432x288 with 1 Axes>"
      ]
     },
     "metadata": {
      "needs_background": "light"
     },
     "output_type": "display_data"
    }
   ],
   "source": [
    "img_true = Image.open('data/sample_masks/00087a6bd4dc_01_mask.gif')\n",
    "plt.imshow(img_true)"
   ]
  },
  {
   "cell_type": "code",
   "execution_count": 14,
   "metadata": {},
   "outputs": [
    {
     "data": {
      "text/plain": [
       "(1280, 1918)"
      ]
     },
     "execution_count": 14,
     "metadata": {},
     "output_type": "execute_result"
    }
   ],
   "source": [
    "img_array = np.array(img_true)\n",
    "img_array.shape"
   ]
  },
  {
   "cell_type": "code",
   "execution_count": 15,
   "metadata": {},
   "outputs": [],
   "source": [
    "def rle_decode(rle_img):\n",
    "    \n",
    "    rle_img = rle_img.split(' ')\n",
    "    \n",
    "    rle_img = [int(string) for string in rle_img]\n",
    "    \n",
    "    rle_tups = []\n",
    "\n",
    "    for i in range(0, len(rle_img), 2):\n",
    "\n",
    "        pixel = rle_img[i]\n",
    "\n",
    "        pixel_position = [pixel//1918, ((pixel%1918))]\n",
    "\n",
    "        run = rle_img[i+1]\n",
    "\n",
    "        rle_tups.append([pixel_position, run])\n",
    "        \n",
    "    pixel_mask = []\n",
    "    \n",
    "    img = np.empty((1280, 1920), dtype=int)\n",
    "\n",
    "    for tup in rle_tups:\n",
    "\n",
    "        for i in range(tup[1]):\n",
    "\n",
    "            img[(tup[0][0])][(tup[0][1]+i)] = 1\n",
    "        \n",
    "    return img"
   ]
  },
  {
   "cell_type": "code",
   "execution_count": 16,
   "metadata": {},
   "outputs": [
    {
     "data": {
      "text/plain": [
       "'879386 40 881253 141 883140 205 885009 17 885032 2'"
      ]
     },
     "execution_count": 16,
     "metadata": {},
     "output_type": "execute_result"
    }
   ],
   "source": [
    "cars_final['rle_mask'][0][:50]"
   ]
  },
  {
   "cell_type": "code",
   "execution_count": 17,
   "metadata": {},
   "outputs": [],
   "source": [
    "rle_1 = rle_decode(cars_final['rle_mask'][0])"
   ]
  },
  {
   "cell_type": "code",
   "execution_count": 18,
   "metadata": {},
   "outputs": [
    {
     "data": {
      "text/plain": [
       "<matplotlib.image.AxesImage at 0x7ffcb7853670>"
      ]
     },
     "execution_count": 18,
     "metadata": {},
     "output_type": "execute_result"
    },
    {
     "data": {
      "image/png": "[encoded data removed]",
      "text/plain": [
       "<Figure size 432x288 with 1 Axes>"
      ]
     },
     "metadata": {
      "needs_background": "light"
     },
     "output_type": "display_data"
    }
   ],
   "source": [
    "plt.imshow(rle_1)"
   ]
  },
  {
   "cell_type": "markdown",
   "metadata": {},
   "source": [
    "We changed the Image from Run-Length-Encoded to a regular 1280 X 1918 pixel-array.  \n",
    "The image matches the actual image we had shown earlier.    \n",
    "\n",
    "\n",
    "Next we will try to encode a pixel-by-pixel image to Run-Length-Encoding"
   ]
  },
  {
   "cell_type": "code",
   "execution_count": null,
   "metadata": {},
   "outputs": [],
   "source": []
  },
  {
   "cell_type": "code",
   "execution_count": 19,
   "metadata": {},
   "outputs": [],
   "source": [
    "def rle_encode(img):\n",
    "\n",
    "    img_array = np.array(img)\n",
    "\n",
    "    pixels = []\n",
    "\n",
    "    for i in range(img_array.shape[0]):\n",
    "\n",
    "        for j in range(img_array.shape[1]):\n",
    "\n",
    "            if int(img_array[i][j]) != 0:\n",
    "                \n",
    "                pix = ((i * 1918) + j + 1)\n",
    "                pixels.append(pix)\n",
    "\n",
    "    pixel_breaks = [0]\n",
    "\n",
    "    for i in range(len(pixels) - 1):\n",
    "\n",
    "        if pixels[i] != ((pixels[i+1]) - 1):\n",
    "\n",
    "            pixel_breaks.append(i+1)\n",
    "\n",
    "    pixel_breaks.append(len(pixels))\n",
    "\n",
    "    rle_mask = ''\n",
    "\n",
    "    for i in range(len(pixel_breaks) - 1):\n",
    "\n",
    "        rle_mask += (str(pixels[pixel_breaks[i]]) + ' ')\n",
    "        rle_mask += (str(pixel_breaks[i+1] - pixel_breaks[i]) + ' ')\n",
    "\n",
    "    return rle_mask[:-1]"
   ]
  },
  {
   "cell_type": "code",
   "execution_count": 20,
   "metadata": {},
   "outputs": [
    {
     "data": {
      "text/plain": [
       "array([[0, 0, 0, ..., 0, 0, 0],\n",
       "       [0, 0, 0, ..., 0, 0, 0],\n",
       "       [0, 0, 0, ..., 0, 0, 0],\n",
       "       ...,\n",
       "       [0, 0, 0, ..., 0, 0, 0],\n",
       "       [0, 0, 0, ..., 0, 0, 0],\n",
       "       [0, 0, 0, ..., 0, 0, 0]], dtype=uint8)"
      ]
     },
     "execution_count": 20,
     "metadata": {},
     "output_type": "execute_result"
    }
   ],
   "source": [
    "img_array"
   ]
  },
  {
   "cell_type": "code",
   "execution_count": 21,
   "metadata": {},
   "outputs": [
    {
     "data": {
      "text/plain": [
       "(1280, 1918)"
      ]
     },
     "execution_count": 21,
     "metadata": {},
     "output_type": "execute_result"
    }
   ],
   "source": [
    "img_array.shape"
   ]
  },
  {
   "cell_type": "code",
   "execution_count": 22,
   "metadata": {},
   "outputs": [
    {
     "data": {
      "text/plain": [
       "'879386 40 881253 141 883140 205 885009 17 885032 2'"
      ]
     },
     "execution_count": 22,
     "metadata": {},
     "output_type": "execute_result"
    }
   ],
   "source": [
    "rle_encode(img_array)[:50]"
   ]
  },
  {
   "cell_type": "code",
   "execution_count": 23,
   "metadata": {},
   "outputs": [
    {
     "data": {
      "text/plain": [
       "'879386 40 881253 141 883140 205 885009 17 885032 2'"
      ]
     },
     "execution_count": 23,
     "metadata": {},
     "output_type": "execute_result"
    }
   ],
   "source": [
    "cars_final['rle_mask'][0][:50]"
   ]
  },
  {
   "cell_type": "markdown",
   "metadata": {},
   "source": [
    "The two RLE matches, which shows that the function works as intended."
   ]
  }
 ],
 "metadata": {
  "kernelspec": {
   "display_name": "Python 3",
   "language": "python",
   "name": "python3"
  },
  "language_info": {
   "codemirror_mode": {
    "name": "ipython",
    "version": 3
   },
   "file_extension": ".py",
   "mimetype": "text/x-python",
   "name": "python",
   "nbconvert_exporter": "python",
   "pygments_lexer": "ipython3",
   "version": "3.8.5"
  }
 },
 "nbformat": 4,
 "nbformat_minor": 4
}
