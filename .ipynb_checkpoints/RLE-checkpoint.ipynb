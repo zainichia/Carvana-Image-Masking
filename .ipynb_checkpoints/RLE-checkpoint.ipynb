{
 "cells": [
  {
   "cell_type": "code",
   "execution_count": 1,
   "metadata": {},
   "outputs": [],
   "source": [
    "import pandas as pd\n",
    "import numpy as np\n",
    "import matplotlib.pyplot as plt\n",
    "import math\n",
    "from PIL import Image\n",
    "import tensorflow as tf"
   ]
  },
  {
   "cell_type": "code",
   "execution_count": 2,
   "metadata": {},
   "outputs": [
    {
     "data": {
      "text/html": [
       "<div>\n",
       "<style scoped>\n",
       "    .dataframe tbody tr th:only-of-type {\n",
       "        vertical-align: middle;\n",
       "    }\n",
       "\n",
       "    .dataframe tbody tr th {\n",
       "        vertical-align: top;\n",
       "    }\n",
       "\n",
       "    .dataframe thead th {\n",
       "        text-align: right;\n",
       "    }\n",
       "</style>\n",
       "<table border=\"1\" class=\"dataframe\">\n",
       "  <thead>\n",
       "    <tr style=\"text-align: right;\">\n",
       "      <th></th>\n",
       "      <th>img</th>\n",
       "      <th>rle_mask</th>\n",
       "    </tr>\n",
       "  </thead>\n",
       "  <tbody>\n",
       "    <tr>\n",
       "      <th>0</th>\n",
       "      <td>00087a6bd4dc_01.jpg</td>\n",
       "      <td>879386 40 881253 141 883140 205 885009 17 8850...</td>\n",
       "    </tr>\n",
       "    <tr>\n",
       "      <th>1</th>\n",
       "      <td>00087a6bd4dc_02.jpg</td>\n",
       "      <td>873779 4 875695 7 877612 9 879528 12 881267 15...</td>\n",
       "    </tr>\n",
       "    <tr>\n",
       "      <th>2</th>\n",
       "      <td>00087a6bd4dc_03.jpg</td>\n",
       "      <td>864300 9 866217 13 868134 15 870051 16 871969 ...</td>\n",
       "    </tr>\n",
       "    <tr>\n",
       "      <th>3</th>\n",
       "      <td>00087a6bd4dc_04.jpg</td>\n",
       "      <td>879735 20 881650 26 883315 92 883564 30 885208...</td>\n",
       "    </tr>\n",
       "    <tr>\n",
       "      <th>4</th>\n",
       "      <td>00087a6bd4dc_05.jpg</td>\n",
       "      <td>883365 74 883638 28 885262 119 885550 34 88716...</td>\n",
       "    </tr>\n",
       "  </tbody>\n",
       "</table>\n",
       "</div>"
      ],
      "text/plain": [
       "                   img                                           rle_mask\n",
       "0  00087a6bd4dc_01.jpg  879386 40 881253 141 883140 205 885009 17 8850...\n",
       "1  00087a6bd4dc_02.jpg  873779 4 875695 7 877612 9 879528 12 881267 15...\n",
       "2  00087a6bd4dc_03.jpg  864300 9 866217 13 868134 15 870051 16 871969 ...\n",
       "3  00087a6bd4dc_04.jpg  879735 20 881650 26 883315 92 883564 30 885208...\n",
       "4  00087a6bd4dc_05.jpg  883365 74 883638 28 885262 119 885550 34 88716..."
      ]
     },
     "execution_count": 2,
     "metadata": {},
     "output_type": "execute_result"
    }
   ],
   "source": [
    "rle_data = pd.read_csv('data/train_masks.csv')\n",
    "rle_data.head()"
   ]
  },
  {
   "cell_type": "code",
   "execution_count": 3,
   "metadata": {},
   "outputs": [
    {
     "data": {
      "text/plain": [
       "img         object\n",
       "rle_mask    object\n",
       "dtype: object"
      ]
     },
     "execution_count": 3,
     "metadata": {},
     "output_type": "execute_result"
    }
   ],
   "source": [
    "rle_data.dtypes"
   ]
  },
  {
   "cell_type": "code",
   "execution_count": 4,
   "metadata": {},
   "outputs": [],
   "source": [
    "rle1 = rle_data.iloc[0,1]"
   ]
  },
  {
   "cell_type": "code",
   "execution_count": 5,
   "metadata": {},
   "outputs": [
    {
     "data": {
      "text/plain": [
       "'879386 40 881253 141 883140 205 885009 17 885032 259 886923 308 888839 328 890754 340 892670 347 894587 352 896503 357 898420 360 900336 364 902253 367 904170 370 906086 374 908003 377 909920 379 9118'"
      ]
     },
     "execution_count": 5,
     "metadata": {},
     "output_type": "execute_result"
    }
   ],
   "source": [
    "rle1[:200]"
   ]
  },
  {
   "cell_type": "code",
   "execution_count": 8,
   "metadata": {},
   "outputs": [],
   "source": [
    "img = np.empty((1280, 1920), dtype=int)"
   ]
  },
  {
   "cell_type": "code",
   "execution_count": 9,
   "metadata": {},
   "outputs": [
    {
     "data": {
      "text/plain": [
       "(1280, 1920)"
      ]
     },
     "execution_count": 9,
     "metadata": {},
     "output_type": "execute_result"
    }
   ],
   "source": [
    "img.shape"
   ]
  },
  {
   "cell_type": "code",
   "execution_count": 10,
   "metadata": {},
   "outputs": [],
   "source": [
    "rle1_split = rle1.split(' ')"
   ]
  },
  {
   "cell_type": "code",
   "execution_count": 11,
   "metadata": {},
   "outputs": [
    {
     "data": {
      "text/plain": [
       "['879386', '40', '881253', '141', '883140', '205']"
      ]
     },
     "execution_count": 11,
     "metadata": {},
     "output_type": "execute_result"
    }
   ],
   "source": [
    "rle1_split[:6]"
   ]
  },
  {
   "cell_type": "code",
   "execution_count": 12,
   "metadata": {},
   "outputs": [],
   "source": [
    "rle1_split = [int(string) for string in rle1_split]"
   ]
  },
  {
   "cell_type": "code",
   "execution_count": 13,
   "metadata": {},
   "outputs": [
    {
     "data": {
      "text/plain": [
       "[879386, 40, 881253, 141, 883140, 205]"
      ]
     },
     "execution_count": 13,
     "metadata": {},
     "output_type": "execute_result"
    }
   ],
   "source": [
    "rle1_split[:6]"
   ]
  },
  {
   "cell_type": "code",
   "execution_count": 14,
   "metadata": {},
   "outputs": [
    {
     "data": {
      "text/plain": [
       "1"
      ]
     },
     "execution_count": 14,
     "metadata": {},
     "output_type": "execute_result"
    }
   ],
   "source": [
    "1918//1918"
   ]
  },
  {
   "cell_type": "code",
   "execution_count": 15,
   "metadata": {},
   "outputs": [],
   "source": [
    "rle1_tups = []\n",
    "\n",
    "for i in range(0, len(rle1_split), 2):\n",
    "    \n",
    "    pixel = rle1_split[i]\n",
    "    \n",
    "    pixel_position = [pixel//1918, ((pixel%1918))]\n",
    "    \n",
    "    run = rle1_split[i+1]\n",
    "    \n",
    "    rle1_tups.append([pixel_position, run])"
   ]
  },
  {
   "cell_type": "code",
   "execution_count": 16,
   "metadata": {},
   "outputs": [
    {
     "data": {
      "text/plain": [
       "[[[458, 942], 40],\n",
       " [[459, 891], 141],\n",
       " [[460, 860], 205],\n",
       " [[461, 811], 17],\n",
       " [[461, 834], 259]]"
      ]
     },
     "execution_count": 16,
     "metadata": {},
     "output_type": "execute_result"
    }
   ],
   "source": [
    "rle1_tups[:5]"
   ]
  },
  {
   "cell_type": "code",
   "execution_count": 17,
   "metadata": {},
   "outputs": [
    {
     "data": {
      "text/plain": [
       "(1280, 1920)"
      ]
     },
     "execution_count": 17,
     "metadata": {},
     "output_type": "execute_result"
    }
   ],
   "source": [
    "img.shape"
   ]
  },
  {
   "cell_type": "code",
   "execution_count": 18,
   "metadata": {},
   "outputs": [],
   "source": [
    "pixel_mask = []\n",
    "\n",
    "for tup in rle1_tups:\n",
    "    \n",
    "    for i in range(tup[1]):\n",
    "        \n",
    "        pixel = [(tup[0][0]), (tup[0][1]+i)]\n",
    "        \n",
    "        pixel_mask.append(pixel)"
   ]
  },
  {
   "cell_type": "code",
   "execution_count": 19,
   "metadata": {},
   "outputs": [
    {
     "data": {
      "text/plain": [
       "[[1092, 1112], [1092, 1113], [1092, 1114], [1092, 1115], [1092, 1116]]"
      ]
     },
     "execution_count": 19,
     "metadata": {},
     "output_type": "execute_result"
    }
   ],
   "source": [
    "pixel_mask[-5:]"
   ]
  },
  {
   "cell_type": "code",
   "execution_count": 20,
   "metadata": {},
   "outputs": [],
   "source": [
    "pixel_raveled = np.array(pixel_mask).ravel()"
   ]
  },
  {
   "cell_type": "code",
   "execution_count": 21,
   "metadata": {},
   "outputs": [
    {
     "data": {
      "text/plain": [
       "1383"
      ]
     },
     "execution_count": 21,
     "metadata": {},
     "output_type": "execute_result"
    }
   ],
   "source": [
    "max(pixel_raveled)"
   ]
  },
  {
   "cell_type": "code",
   "execution_count": 22,
   "metadata": {},
   "outputs": [
    {
     "data": {
      "text/plain": [
       "[458, 942]"
      ]
     },
     "execution_count": 22,
     "metadata": {},
     "output_type": "execute_result"
    }
   ],
   "source": [
    "pixel_mask[0]"
   ]
  },
  {
   "cell_type": "code",
   "execution_count": 23,
   "metadata": {},
   "outputs": [
    {
     "data": {
      "text/plain": [
       "942"
      ]
     },
     "execution_count": 23,
     "metadata": {},
     "output_type": "execute_result"
    }
   ],
   "source": [
    "pixel_mask[0][1]"
   ]
  },
  {
   "cell_type": "code",
   "execution_count": 24,
   "metadata": {},
   "outputs": [],
   "source": [
    "for pixel in pixel_mask:\n",
    "    \n",
    "    img[pixel[0]][pixel[1]] = 1"
   ]
  },
  {
   "cell_type": "code",
   "execution_count": 25,
   "metadata": {},
   "outputs": [
    {
     "data": {
      "text/plain": [
       "<matplotlib.image.AxesImage at 0x7ff90a146820>"
      ]
     },
     "execution_count": 25,
     "metadata": {},
     "output_type": "execute_result"
    },
    {
     "data": {
      "image/png": "[encoded data removed]",
      "text/plain": [
       "<Figure size 432x288 with 1 Axes>"
      ]
     },
     "metadata": {
      "needs_background": "light"
     },
     "output_type": "display_data"
    }
   ],
   "source": [
    "plt.imshow(img)"
   ]
  },
  {
   "cell_type": "code",
   "execution_count": 26,
   "metadata": {},
   "outputs": [],
   "source": [
    "img_true = Image.open('data/sample_masks/00087a6bd4dc_01_mask.gif')"
   ]
  },
  {
   "cell_type": "code",
   "execution_count": 27,
   "metadata": {},
   "outputs": [
    {
     "data": {
      "text/plain": [
       "<matplotlib.image.AxesImage at 0x7ff90ce9c3d0>"
      ]
     },
     "execution_count": 27,
     "metadata": {},
     "output_type": "execute_result"
    },
    {
     "data": {
      "image/png": "[encoded data removed]",
      "text/plain": [
       "<Figure size 432x288 with 1 Axes>"
      ]
     },
     "metadata": {
      "needs_background": "light"
     },
     "output_type": "display_data"
    }
   ],
   "source": [
    "plt.imshow(img_true)"
   ]
  },
  {
   "cell_type": "code",
   "execution_count": 31,
   "metadata": {},
   "outputs": [],
   "source": [
    "img_array = np.array(img_true)"
   ]
  },
  {
   "cell_type": "code",
   "execution_count": 32,
   "metadata": {},
   "outputs": [
    {
     "data": {
      "text/plain": [
       "(1280, 1918)"
      ]
     },
     "execution_count": 32,
     "metadata": {},
     "output_type": "execute_result"
    }
   ],
   "source": [
    "img_array.shape"
   ]
  },
  {
   "cell_type": "code",
   "execution_count": 35,
   "metadata": {},
   "outputs": [
    {
     "data": {
      "text/plain": [
       "1"
      ]
     },
     "execution_count": 35,
     "metadata": {},
     "output_type": "execute_result"
    }
   ],
   "source": [
    "img_array[800][1000]"
   ]
  },
  {
   "cell_type": "code",
   "execution_count": 48,
   "metadata": {},
   "outputs": [],
   "source": [
    "pixel_array = []\n",
    "\n",
    "for i in range(img_array.shape[0]):\n",
    "    \n",
    "    for j in range(img_array.shape[1]):\n",
    "        \n",
    "        if img_array[i][j] == 1:\n",
    "        \n",
    "            pixel_array.append([i, j])"
   ]
  },
  {
   "cell_type": "code",
   "execution_count": 49,
   "metadata": {},
   "outputs": [
    {
     "data": {
      "text/plain": [
       "[[458, 941],\n",
       " [458, 942],\n",
       " [458, 943],\n",
       " [458, 944],\n",
       " [458, 945],\n",
       " [458, 946],\n",
       " [458, 947],\n",
       " [458, 948],\n",
       " [458, 949],\n",
       " [458, 950]]"
      ]
     },
     "execution_count": 49,
     "metadata": {},
     "output_type": "execute_result"
    }
   ],
   "source": [
    "pixel_array[:10]"
   ]
  },
  {
   "cell_type": "code",
   "execution_count": 50,
   "metadata": {},
   "outputs": [
    {
     "data": {
      "text/plain": [
       "435149"
      ]
     },
     "execution_count": 50,
     "metadata": {},
     "output_type": "execute_result"
    }
   ],
   "source": [
    "len(pixel_array)"
   ]
  },
  {
   "cell_type": "code",
   "execution_count": 51,
   "metadata": {},
   "outputs": [
    {
     "data": {
      "text/plain": [
       "[[[458, 942], 40],\n",
       " [[459, 891], 141],\n",
       " [[460, 860], 205],\n",
       " [[461, 811], 17],\n",
       " [[461, 834], 259],\n",
       " [[462, 807], 308],\n",
       " [[463, 805], 328],\n",
       " [[464, 802], 340],\n",
       " [[465, 800], 347],\n",
       " [[466, 799], 352],\n",
       " [[467, 797], 357],\n",
       " [[468, 796], 360],\n",
       " [[469, 794], 364],\n",
       " [[470, 793], 367],\n",
       " [[471, 792], 370],\n",
       " [[472, 790], 374],\n",
       " [[473, 789], 377],\n",
       " [[474, 788], 379],\n",
       " [[475, 787], 381],\n",
       " [[476, 786], 384],\n",
       " [[477, 785], 386],\n",
       " [[478, 784], 388],\n",
       " [[479, 783], 391],\n",
       " [[480, 782], 393],\n",
       " [[481, 781], 395],\n",
       " [[482, 780], 397],\n",
       " [[483, 779], 399],\n",
       " [[484, 778], 401],\n",
       " [[485, 777], 403],\n",
       " [[486, 777], 404],\n",
       " [[487, 776], 406],\n",
       " [[488, 775], 408],\n",
       " [[489, 774], 410],\n",
       " [[490, 773], 412],\n",
       " [[491, 772], 414],\n",
       " [[492, 772], 415],\n",
       " [[493, 771], 416],\n",
       " [[494, 770], 418],\n",
       " [[495, 769], 420],\n",
       " [[496, 769], 421],\n",
       " [[497, 768], 423],\n",
       " [[498, 767], 425],\n",
       " [[499, 766], 426],\n",
       " [[500, 766], 427],\n",
       " [[501, 765], 429],\n",
       " [[502, 764], 431],\n",
       " [[503, 763], 432],\n",
       " [[504, 763], 433],\n",
       " [[505, 762], 435],\n",
       " [[506, 761], 437],\n",
       " [[507, 760], 438],\n",
       " [[508, 760], 439],\n",
       " [[509, 759], 441],\n",
       " [[510, 758], 442],\n",
       " [[511, 757], 444],\n",
       " [[512, 757], 445],\n",
       " [[513, 756], 447],\n",
       " [[514, 755], 448],\n",
       " [[515, 755], 449],\n",
       " [[516, 754], 451],\n",
       " [[517, 753], 452],\n",
       " [[518, 753], 453],\n",
       " [[519, 752], 455],\n",
       " [[520, 751], 456],\n",
       " [[521, 750], 458],\n",
       " [[522, 750], 459],\n",
       " [[523, 749], 460],\n",
       " [[524, 748], 462],\n",
       " [[525, 748], 463],\n",
       " [[526, 747], 464],\n",
       " [[527, 746], 466],\n",
       " [[528, 746], 467],\n",
       " [[529, 745], 468],\n",
       " [[530, 744], 470],\n",
       " [[531, 744], 471],\n",
       " [[532, 743], 472],\n",
       " [[533, 742], 474],\n",
       " [[534, 742], 475],\n",
       " [[535, 741], 476],\n",
       " [[536, 740], 478],\n",
       " [[537, 740], 479],\n",
       " [[538, 739], 480],\n",
       " [[539, 738], 482],\n",
       " [[540, 738], 482],\n",
       " [[541, 737], 484],\n",
       " [[542, 736], 486],\n",
       " [[543, 736], 486],\n",
       " [[544, 735], 488],\n",
       " [[545, 734], 490],\n",
       " [[546, 734], 490],\n",
       " [[547, 733], 492],\n",
       " [[548, 732], 493],\n",
       " [[549, 732], 494],\n",
       " [[550, 731], 496],\n",
       " [[551, 731], 496],\n",
       " [[552, 730], 498],\n",
       " [[553, 729], 499],\n",
       " [[554, 729], 500],\n",
       " [[555, 728], 501],\n",
       " [[556, 727], 503],\n",
       " [[557, 727], 504],\n",
       " [[558, 726], 505],\n",
       " [[559, 726], 506],\n",
       " [[560, 725], 507],\n",
       " [[561, 724], 509],\n",
       " [[562, 724], 510],\n",
       " [[563, 723], 511],\n",
       " [[564, 723], 512],\n",
       " [[565, 722], 513],\n",
       " [[566, 721], 515],\n",
       " [[567, 721], 516],\n",
       " [[568, 720], 517],\n",
       " [[569, 720], 518],\n",
       " [[570, 719], 519],\n",
       " [[571, 719], 520],\n",
       " [[572, 718], 521],\n",
       " [[573, 717], 523],\n",
       " [[574, 717], 524],\n",
       " [[575, 716], 525],\n",
       " [[576, 716], 526],\n",
       " [[577, 715], 527],\n",
       " [[578, 715], 528],\n",
       " [[579, 714], 529],\n",
       " [[580, 713], 531],\n",
       " [[581, 713], 532],\n",
       " [[582, 712], 533],\n",
       " [[583, 712], 534],\n",
       " [[584, 711], 535],\n",
       " [[585, 711], 536],\n",
       " [[586, 710], 537],\n",
       " [[587, 710], 538],\n",
       " [[588, 709], 539],\n",
       " [[589, 708], 541],\n",
       " [[590, 708], 542],\n",
       " [[591, 707], 543],\n",
       " [[592, 707], 544],\n",
       " [[593, 706], 545],\n",
       " [[594, 628], 31],\n",
       " [[594, 706], 546],\n",
       " [[595, 625], 47],\n",
       " [[595, 705], 547],\n",
       " [[596, 623], 57],\n",
       " [[596, 705], 548],\n",
       " [[597, 621], 61],\n",
       " [[597, 704], 550],\n",
       " [[598, 620], 63],\n",
       " [[598, 704], 550],\n",
       " [[599, 619], 65],\n",
       " [[599, 703], 552],\n",
       " [[600, 618], 66],\n",
       " [[600, 703], 552],\n",
       " [[600, 1290], 30],\n",
       " [[601, 618], 66],\n",
       " [[601, 702], 554],\n",
       " [[601, 1286], 42],\n",
       " [[602, 617], 67],\n",
       " [[602, 701], 555],\n",
       " [[602, 1284], 51],\n",
       " [[603, 617], 67],\n",
       " [[603, 701], 556],\n",
       " [[603, 1283], 57],\n",
       " [[604, 616], 68],\n",
       " [[604, 700], 557],\n",
       " [[604, 1282], 61],\n",
       " [[605, 616], 68],\n",
       " [[605, 700], 558],\n",
       " [[605, 1282], 64],\n",
       " [[606, 615], 69],\n",
       " [[606, 699], 560],\n",
       " [[606, 1281], 66],\n",
       " [[607, 615], 69],\n",
       " [[607, 699], 560],\n",
       " [[607, 1281], 68],\n",
       " [[608, 615], 69],\n",
       " [[608, 698], 562],\n",
       " [[608, 1280], 70],\n",
       " [[609, 614], 70],\n",
       " [[609, 698], 562],\n",
       " [[609, 1280], 70],\n",
       " [[610, 614], 70],\n",
       " [[610, 697], 564],\n",
       " [[610, 1280], 71],\n",
       " [[611, 614], 70],\n",
       " [[611, 697], 564],\n",
       " [[611, 1280], 71],\n",
       " [[612, 614], 70],\n",
       " [[612, 696], 566],\n",
       " [[612, 1280], 72],\n",
       " [[613, 613], 71],\n",
       " [[613, 696], 567],\n",
       " [[613, 1280], 72],\n",
       " [[614, 613], 70],\n",
       " [[614, 695], 568],\n",
       " [[614, 1280], 72],\n",
       " [[615, 613], 70],\n",
       " [[615, 695], 569],\n",
       " [[615, 1280], 72],\n",
       " [[616, 613], 70],\n",
       " [[616, 694], 570],\n",
       " [[616, 1279], 73],\n",
       " [[617, 613], 70],\n",
       " [[617, 694], 571],\n",
       " [[617, 1279], 74],\n",
       " [[618, 613], 70],\n",
       " [[618, 693], 572],\n",
       " [[618, 1279], 74],\n",
       " [[619, 612], 71],\n",
       " [[619, 693], 573],\n",
       " [[619, 1279], 74],\n",
       " [[620, 612], 71],\n",
       " [[620, 692], 574],\n",
       " [[620, 1279], 74],\n",
       " [[621, 612], 71],\n",
       " [[621, 692], 575],\n",
       " [[621, 1279], 74],\n",
       " [[622, 612], 71],\n",
       " [[622, 691], 577],\n",
       " [[622, 1279], 74],\n",
       " [[623, 612], 71],\n",
       " [[623, 691], 577],\n",
       " [[623, 1279], 74],\n",
       " [[624, 612], 71],\n",
       " [[624, 690], 579],\n",
       " [[624, 1279], 74],\n",
       " [[625, 612], 71],\n",
       " [[625, 690], 579],\n",
       " [[625, 1279], 74],\n",
       " [[626, 612], 658],\n",
       " [[626, 1279], 74],\n",
       " [[627, 612], 741],\n",
       " [[628, 612], 741],\n",
       " [[629, 613], 739],\n",
       " [[630, 613], 739],\n",
       " [[631, 614], 738],\n",
       " [[632, 615], 737],\n",
       " [[633, 616], 736],\n",
       " [[634, 618], 733],\n",
       " [[635, 621], 730],\n",
       " [[636, 624], 727],\n",
       " [[637, 626], 724],\n",
       " [[638, 630], 720],\n",
       " [[639, 633], 716],\n",
       " [[640, 636], 712],\n",
       " [[641, 641], 706],\n",
       " [[642, 646], 699],\n",
       " [[643, 652], 691],\n",
       " [[644, 659], 680],\n",
       " [[645, 666], 669],\n",
       " [[646, 673], 654],\n",
       " [[647, 677], 640],\n",
       " [[648, 676], 631],\n",
       " [[649, 676], 618],\n",
       " [[650, 676], 604],\n",
       " [[651, 675], 605],\n",
       " [[652, 675], 605],\n",
       " [[653, 674], 606],\n",
       " [[654, 674], 607],\n",
       " [[655, 673], 608],\n",
       " [[656, 673], 608],\n",
       " [[657, 672], 610],\n",
       " [[658, 671], 611],\n",
       " [[659, 671], 612],\n",
       " [[660, 670], 613],\n",
       " [[661, 669], 615],\n",
       " [[662, 669], 615],\n",
       " [[663, 668], 617],\n",
       " [[664, 667], 619],\n",
       " [[665, 666], 620],\n",
       " [[666, 665], 622],\n",
       " [[667, 664], 624],\n",
       " [[668, 663], 626],\n",
       " [[669, 662], 627],\n",
       " [[670, 661], 629],\n",
       " [[671, 659], 632],\n",
       " [[672, 658], 634],\n",
       " [[673, 657], 636],\n",
       " [[674, 656], 638],\n",
       " [[675, 654], 641],\n",
       " [[676, 653], 643],\n",
       " [[677, 652], 645],\n",
       " [[678, 650], 648],\n",
       " [[679, 649], 651],\n",
       " [[680, 647], 654],\n",
       " [[681, 646], 656],\n",
       " [[682, 645], 659],\n",
       " [[683, 643], 663],\n",
       " [[684, 642], 666],\n",
       " [[685, 641], 669],\n",
       " [[686, 639], 673],\n",
       " [[687, 638], 676],\n",
       " [[688, 637], 679],\n",
       " [[689, 636], 682],\n",
       " [[690, 635], 685],\n",
       " [[691, 634], 687],\n",
       " [[692, 633], 690],\n",
       " [[693, 632], 692],\n",
       " [[694, 631], 695],\n",
       " [[695, 630], 697],\n",
       " [[696, 630], 698],\n",
       " [[697, 629], 700],\n",
       " [[698, 628], 702],\n",
       " [[699, 628], 703],\n",
       " [[700, 627], 705],\n",
       " [[701, 626], 707],\n",
       " [[702, 626], 707],\n",
       " [[703, 625], 709],\n",
       " [[704, 624], 711],\n",
       " [[705, 624], 712],\n",
       " [[706, 623], 714],\n",
       " [[707, 623], 714],\n",
       " [[708, 622], 716],\n",
       " [[709, 622], 717],\n",
       " [[710, 621], 718],\n",
       " [[711, 621], 719],\n",
       " [[712, 621], 719],\n",
       " [[713, 620], 721],\n",
       " [[714, 620], 722],\n",
       " [[715, 619], 723],\n",
       " [[716, 619], 723],\n",
       " [[717, 618], 725],\n",
       " [[718, 618], 725],\n",
       " [[719, 618], 726],\n",
       " [[720, 617], 727],\n",
       " [[721, 617], 728],\n",
       " [[722, 616], 729],\n",
       " [[723, 616], 730],\n",
       " [[724, 615], 731],\n",
       " [[725, 615], 732],\n",
       " [[726, 614], 733],\n",
       " [[727, 614], 734],\n",
       " [[728, 614], 734],\n",
       " [[729, 613], 736],\n",
       " [[730, 613], 736],\n",
       " [[731, 612], 738],\n",
       " [[732, 612], 738],\n",
       " [[733, 611], 740],\n",
       " [[734, 611], 740],\n",
       " [[735, 610], 742],\n",
       " [[736, 610], 742],\n",
       " [[737, 609], 743],\n",
       " [[738, 609], 744],\n",
       " [[739, 608], 745],\n",
       " [[740, 608], 746],\n",
       " [[741, 607], 747],\n",
       " [[742, 607], 748],\n",
       " [[743, 606], 749],\n",
       " [[744, 606], 750],\n",
       " [[745, 605], 751],\n",
       " [[746, 605], 752],\n",
       " [[747, 604], 753],\n",
       " [[748, 604], 754],\n",
       " [[749, 603], 755],\n",
       " [[750, 603], 755],\n",
       " [[751, 602], 757],\n",
       " [[752, 601], 758],\n",
       " [[753, 601], 759],\n",
       " [[754, 600], 760],\n",
       " [[755, 600], 761],\n",
       " [[756, 599], 762],\n",
       " [[757, 599], 763],\n",
       " [[758, 598], 764],\n",
       " [[759, 598], 764],\n",
       " [[760, 598], 765],\n",
       " [[761, 597], 766],\n",
       " [[762, 597], 767],\n",
       " [[763, 596], 768],\n",
       " [[764, 596], 769],\n",
       " [[765, 596], 769],\n",
       " [[766, 595], 771],\n",
       " [[767, 595], 771],\n",
       " [[768, 595], 771],\n",
       " [[769, 594], 773],\n",
       " [[770, 594], 773],\n",
       " [[771, 594], 774],\n",
       " [[772, 593], 775],\n",
       " [[773, 593], 776],\n",
       " [[774, 593], 776],\n",
       " [[775, 592], 777],\n",
       " [[776, 592], 778],\n",
       " [[777, 592], 778],\n",
       " [[778, 592], 778],\n",
       " [[779, 591], 780],\n",
       " [[780, 591], 780],\n",
       " [[781, 591], 781],\n",
       " [[782, 591], 781],\n",
       " [[783, 590], 782],\n",
       " [[784, 590], 783],\n",
       " [[785, 590], 783],\n",
       " [[786, 590], 783],\n",
       " [[787, 590], 784],\n",
       " [[788, 589], 785],\n",
       " [[789, 589], 785],\n",
       " [[790, 589], 785],\n",
       " [[791, 589], 786],\n",
       " [[792, 589], 786],\n",
       " [[793, 589], 786],\n",
       " [[794, 588], 787],\n",
       " [[795, 588], 788],\n",
       " [[796, 588], 788],\n",
       " [[797, 588], 788],\n",
       " [[798, 588], 788],\n",
       " [[799, 588], 789],\n",
       " [[800, 587], 790],\n",
       " [[801, 587], 790],\n",
       " [[802, 587], 790],\n",
       " [[803, 587], 790],\n",
       " [[804, 587], 791],\n",
       " [[805, 587], 791],\n",
       " [[806, 587], 791],\n",
       " [[807, 586], 792],\n",
       " [[808, 586], 792],\n",
       " [[809, 586], 792],\n",
       " [[810, 586], 792],\n",
       " [[811, 586], 793],\n",
       " [[812, 586], 793],\n",
       " [[813, 585], 794],\n",
       " [[814, 585], 794],\n",
       " [[815, 585], 794],\n",
       " [[816, 585], 794],\n",
       " [[817, 585], 794],\n",
       " [[818, 585], 795],\n",
       " [[819, 585], 795],\n",
       " [[820, 585], 795],\n",
       " [[821, 584], 796],\n",
       " [[822, 584], 796],\n",
       " [[823, 584], 796],\n",
       " [[824, 584], 796],\n",
       " [[825, 584], 796],\n",
       " [[826, 584], 796],\n",
       " [[827, 584], 796],\n",
       " [[828, 583], 798],\n",
       " [[829, 583], 798],\n",
       " [[830, 583], 798],\n",
       " [[831, 583], 798],\n",
       " [[832, 583], 798],\n",
       " [[833, 583], 798],\n",
       " [[834, 583], 798],\n",
       " [[835, 583], 798],\n",
       " [[836, 582], 799],\n",
       " [[837, 582], 799],\n",
       " [[838, 582], 799],\n",
       " [[839, 582], 799],\n",
       " [[840, 582], 799],\n",
       " [[841, 582], 799],\n",
       " [[842, 582], 800],\n",
       " [[843, 582], 800],\n",
       " [[844, 582], 800],\n",
       " [[845, 581], 801],\n",
       " [[846, 581], 801],\n",
       " [[847, 581], 801],\n",
       " [[848, 581], 801],\n",
       " [[849, 581], 801],\n",
       " [[850, 581], 801],\n",
       " [[851, 581], 801],\n",
       " [[852, 581], 801],\n",
       " [[853, 581], 801],\n",
       " [[854, 581], 801],\n",
       " [[855, 580], 802],\n",
       " [[856, 580], 802],\n",
       " [[857, 580], 802],\n",
       " [[858, 580], 803],\n",
       " [[859, 580], 803],\n",
       " [[860, 580], 803],\n",
       " [[861, 580], 803],\n",
       " [[862, 580], 803],\n",
       " [[863, 580], 803],\n",
       " [[864, 580], 803],\n",
       " [[865, 580], 803],\n",
       " [[866, 580], 803],\n",
       " [[867, 580], 803],\n",
       " [[868, 580], 803],\n",
       " [[869, 580], 803],\n",
       " [[870, 579], 804],\n",
       " [[871, 579], 804],\n",
       " [[872, 579], 804],\n",
       " [[873, 579], 804],\n",
       " [[874, 579], 804],\n",
       " [[875, 579], 804],\n",
       " [[876, 579], 804],\n",
       " [[877, 579], 804],\n",
       " [[878, 579], 805],\n",
       " [[879, 579], 805],\n",
       " [[880, 579], 805],\n",
       " [[881, 579], 805],\n",
       " [[882, 579], 805],\n",
       " [[883, 579], 805],\n",
       " [[884, 579], 805],\n",
       " [[885, 579], 805],\n",
       " [[886, 579], 805],\n",
       " [[887, 579], 805],\n",
       " [[888, 579], 805],\n",
       " [[889, 579], 805],\n",
       " [[890, 579], 805],\n",
       " [[891, 579], 805],\n",
       " [[892, 579], 805],\n",
       " [[893, 579], 805],\n",
       " [[894, 579], 805],\n",
       " [[895, 579], 805],\n",
       " [[896, 579], 805],\n",
       " [[897, 579], 805],\n",
       " [[898, 579], 805],\n",
       " [[899, 579], 805],\n",
       " [[900, 579], 805],\n",
       " [[901, 579], 805],\n",
       " [[902, 579], 805],\n",
       " [[903, 579], 805],\n",
       " [[904, 579], 805],\n",
       " [[905, 579], 805],\n",
       " [[906, 579], 805],\n",
       " [[907, 579], 805],\n",
       " [[908, 579], 805],\n",
       " [[909, 579], 805],\n",
       " [[910, 579], 805],\n",
       " [[911, 579], 805],\n",
       " [[912, 579], 805],\n",
       " [[913, 579], 805],\n",
       " [[914, 579], 805],\n",
       " [[915, 579], 805],\n",
       " [[916, 579], 805],\n",
       " [[917, 579], 805],\n",
       " [[918, 579], 805],\n",
       " [[919, 579], 805],\n",
       " [[920, 580], 804],\n",
       " [[921, 580], 804],\n",
       " [[922, 580], 804],\n",
       " [[923, 580], 804],\n",
       " [[924, 580], 804],\n",
       " [[925, 580], 804],\n",
       " [[926, 580], 804],\n",
       " [[927, 580], 804],\n",
       " [[928, 580], 804],\n",
       " [[929, 580], 804],\n",
       " [[930, 580], 804],\n",
       " [[931, 580], 804],\n",
       " [[932, 580], 803],\n",
       " [[933, 580], 803],\n",
       " [[934, 580], 803],\n",
       " [[935, 581], 802],\n",
       " [[936, 581], 802],\n",
       " [[937, 581], 802],\n",
       " [[938, 581], 802],\n",
       " [[939, 581], 802],\n",
       " [[940, 581], 802],\n",
       " [[941, 581], 802],\n",
       " [[942, 581], 802],\n",
       " [[943, 581], 802],\n",
       " [[944, 581], 802],\n",
       " [[945, 581], 802],\n",
       " [[946, 582], 801],\n",
       " [[947, 582], 801],\n",
       " [[948, 582], 801],\n",
       " [[949, 582], 801],\n",
       " [[950, 582], 801],\n",
       " [[951, 582], 801],\n",
       " [[952, 582], 801],\n",
       " [[953, 582], 801],\n",
       " [[954, 582], 801],\n",
       " [[955, 582], 801],\n",
       " [[956, 582], 801],\n",
       " [[957, 582], 800],\n",
       " [[958, 582], 800],\n",
       " [[959, 581], 801],\n",
       " [[960, 581], 801],\n",
       " [[961, 581], 801],\n",
       " [[962, 581], 801],\n",
       " [[963, 581], 801],\n",
       " [[964, 581], 801],\n",
       " [[965, 581], 801],\n",
       " [[966, 581], 801],\n",
       " [[967, 581], 801],\n",
       " [[968, 581], 801],\n",
       " [[969, 581], 801],\n",
       " [[970, 581], 801],\n",
       " [[971, 581], 801],\n",
       " [[972, 581], 801],\n",
       " [[973, 581], 801],\n",
       " [[974, 581], 800],\n",
       " [[975, 581], 800],\n",
       " [[976, 581], 800],\n",
       " [[977, 581], 800],\n",
       " [[978, 581], 800],\n",
       " [[979, 581], 800],\n",
       " [[980, 581], 800],\n",
       " [[981, 581], 800],\n",
       " [[982, 581], 800],\n",
       " [[983, 581], 800],\n",
       " [[984, 581], 800],\n",
       " [[985, 581], 800],\n",
       " [[986, 582], 799],\n",
       " [[987, 582], 798],\n",
       " [[988, 582], 798],\n",
       " [[989, 582], 798],\n",
       " [[990, 582], 798],\n",
       " [[991, 582], 798],\n",
       " [[992, 582], 798],\n",
       " [[993, 583], 797],\n",
       " [[994, 583], 797],\n",
       " [[995, 583], 797],\n",
       " [[996, 583], 796],\n",
       " [[997, 583], 796],\n",
       " [[998, 584], 795],\n",
       " [[999, 584], 795],\n",
       " [[1000, 584], 795],\n",
       " [[1001, 584], 795],\n",
       " [[1002, 585], 794],\n",
       " [[1003, 585], 794],\n",
       " [[1004, 585], 793],\n",
       " [[1005, 586], 792],\n",
       " [[1006, 586], 792],\n",
       " [[1007, 586], 792],\n",
       " [[1008, 587], 791],\n",
       " [[1009, 587], 791],\n",
       " [[1010, 587], 790],\n",
       " [[1011, 588], 789],\n",
       " [[1012, 588], 789],\n",
       " [[1013, 588], 789],\n",
       " [[1014, 588], 789],\n",
       " [[1015, 589], 787],\n",
       " [[1016, 589], 787],\n",
       " [[1017, 589], 787],\n",
       " [[1018, 590], 786],\n",
       " [[1019, 590], 786],\n",
       " [[1020, 590], 785],\n",
       " [[1021, 590], 785],\n",
       " [[1022, 591], 784],\n",
       " [[1023, 591], 784],\n",
       " [[1024, 591], 783],\n",
       " [[1025, 591], 783],\n",
       " [[1026, 592], 782],\n",
       " [[1027, 592], 781],\n",
       " [[1028, 592], 781],\n",
       " [[1029, 592], 781],\n",
       " [[1030, 593], 780],\n",
       " [[1031, 593], 779],\n",
       " [[1032, 593], 779],\n",
       " [[1033, 593], 779],\n",
       " [[1034, 594], 777],\n",
       " [[1035, 594], 777],\n",
       " [[1036, 594], 777],\n",
       " [[1037, 595], 775],\n",
       " [[1038, 595], 775],\n",
       " [[1039, 595], 775],\n",
       " [[1040, 595], 774],\n",
       " [[1041, 596], 773],\n",
       " [[1042, 596], 773],\n",
       " [[1043, 596], 773],\n",
       " [[1044, 597], 771],\n",
       " [[1045, 597], 771],\n",
       " [[1046, 597], 771],\n",
       " [[1047, 598], 769],\n",
       " [[1048, 598], 769],\n",
       " [[1049, 599], 768],\n",
       " [[1050, 599], 767],\n",
       " [[1051, 600], 766],\n",
       " [[1052, 600], 765],\n",
       " [[1053, 601], 764],\n",
       " [[1054, 602], 763],\n",
       " [[1055, 602], 762],\n",
       " [[1056, 603], 761],\n",
       " [[1057, 604], 759],\n",
       " [[1058, 605], 758],\n",
       " [[1059, 606], 756],\n",
       " [[1060, 607], 755],\n",
       " [[1061, 608], 753],\n",
       " [[1062, 609], 751],\n",
       " [[1063, 610], 749],\n",
       " [[1064, 612], 747],\n",
       " [[1065, 613], 745],\n",
       " [[1066, 615], 742],\n",
       " [[1067, 617], 739],\n",
       " [[1068, 619], 736],\n",
       " [[1069, 622], 731],\n",
       " [[1070, 625], 727],\n",
       " [[1071, 628], 722],\n",
       " [[1072, 633], 716],\n",
       " [[1073, 637], 710],\n",
       " [[1074, 643], 702],\n",
       " [[1075, 649], 693],\n",
       " [[1076, 656], 684],\n",
       " [[1077, 663], 674],\n",
       " [[1078, 672], 661],\n",
       " [[1079, 681], 648],\n",
       " [[1080, 691], 633],\n",
       " [[1081, 702], 618],\n",
       " [[1082, 716], 599],\n",
       " [[1083, 730], 580],\n",
       " [[1084, 745], 559],\n",
       " [[1085, 763], 535],\n",
       " [[1086, 781], 510],\n",
       " [[1087, 803], 479],\n",
       " [[1088, 827], 444],\n",
       " [[1089, 860], 397],\n",
       " [[1090, 905], 329],\n",
       " [[1091, 972], 219],\n",
       " [[1092, 1030], 87]]"
      ]
     },
     "execution_count": 51,
     "metadata": {},
     "output_type": "execute_result"
    }
   ],
   "source": [
    "rle1_tups"
   ]
  },
  {
   "cell_type": "code",
   "execution_count": 52,
   "metadata": {},
   "outputs": [
    {
     "data": {
      "text/plain": [
       "435149"
      ]
     },
     "execution_count": 52,
     "metadata": {},
     "output_type": "execute_result"
    }
   ],
   "source": [
    "pixel_count = 0\n",
    "\n",
    "for tup in rle1_tups:\n",
    "    \n",
    "    pixel_count += tup[1]\n",
    "    \n",
    "pixel_count"
   ]
  },
  {
   "cell_type": "code",
   "execution_count": 58,
   "metadata": {},
   "outputs": [
    {
     "data": {
      "text/plain": [
       "[[458, 941], [458, 942], [458, 943], [458, 944], [458, 945]]"
      ]
     },
     "execution_count": 58,
     "metadata": {},
     "output_type": "execute_result"
    }
   ],
   "source": [
    "pixel_array[:5]"
   ]
  },
  {
   "cell_type": "code",
   "execution_count": 109,
   "metadata": {},
   "outputs": [],
   "source": [
    "pixel_numbered = []\n",
    "\n",
    "for pixel in pixel_array:\n",
    "    \n",
    "    pixel_num = ((pixel[0] * 1918) + pixel[1] + 1)\n",
    "    \n",
    "    pixel_numbered.append(pixel_num)"
   ]
  },
  {
   "cell_type": "code",
   "execution_count": 110,
   "metadata": {},
   "outputs": [
    {
     "data": {
      "text/plain": [
       "435149"
      ]
     },
     "execution_count": 110,
     "metadata": {},
     "output_type": "execute_result"
    }
   ],
   "source": [
    "len(pixel_numbered)"
   ]
  },
  {
   "cell_type": "code",
   "execution_count": 111,
   "metadata": {},
   "outputs": [
    {
     "data": {
      "text/plain": [
       "[879386, 879387, 879388, 879389, 879390]"
      ]
     },
     "execution_count": 111,
     "metadata": {},
     "output_type": "execute_result"
    }
   ],
   "source": [
    "pixel_numbered[:5]"
   ]
  },
  {
   "cell_type": "code",
   "execution_count": 112,
   "metadata": {},
   "outputs": [
    {
     "data": {
      "text/plain": [
       "[879386,\n",
       " 879387,\n",
       " 879388,\n",
       " 879389,\n",
       " 879390,\n",
       " 879391,\n",
       " 879392,\n",
       " 879393,\n",
       " 879394,\n",
       " 879395,\n",
       " 879396,\n",
       " 879397,\n",
       " 879398,\n",
       " 879399,\n",
       " 879400,\n",
       " 879401,\n",
       " 879402,\n",
       " 879403,\n",
       " 879404,\n",
       " 879405,\n",
       " 879406,\n",
       " 879407,\n",
       " 879408,\n",
       " 879409,\n",
       " 879410,\n",
       " 879411,\n",
       " 879412,\n",
       " 879413,\n",
       " 879414,\n",
       " 879415,\n",
       " 879416,\n",
       " 879417,\n",
       " 879418,\n",
       " 879419,\n",
       " 879420,\n",
       " 879421,\n",
       " 879422,\n",
       " 879423,\n",
       " 879424,\n",
       " 879425,\n",
       " 881253,\n",
       " 881254,\n",
       " 881255,\n",
       " 881256,\n",
       " 881257,\n",
       " 881258,\n",
       " 881259,\n",
       " 881260,\n",
       " 881261,\n",
       " 881262]"
      ]
     },
     "execution_count": 112,
     "metadata": {},
     "output_type": "execute_result"
    }
   ],
   "source": [
    "pixel_numbered[:50]"
   ]
  },
  {
   "cell_type": "code",
   "execution_count": 128,
   "metadata": {},
   "outputs": [],
   "source": [
    "pixel_breaks = [0]\n",
    "\n",
    "for i in range(len(pixel_numbered) - 1):\n",
    "    \n",
    "    if pixel_numbered[i] != ((pixel_numbered[i+1]) - 1):\n",
    "        \n",
    "        pixel_breaks.append(i+1)\n",
    "        \n",
    "pixel_breaks.append(len(pixel_numbered))"
   ]
  },
  {
   "cell_type": "code",
   "execution_count": 129,
   "metadata": {},
   "outputs": [],
   "source": [
    "pixel_groups = []\n",
    "\n",
    "for i in range(len(pixel_breaks) - 1):\n",
    "    \n",
    "    start = pixel_breaks[i]\n",
    "    \n",
    "    end = pixel_breaks[i+1]\n",
    "    \n",
    "    pixel_groups.append(pixel_numbered[start:end])"
   ]
  },
  {
   "cell_type": "code",
   "execution_count": 130,
   "metadata": {},
   "outputs": [
    {
     "data": {
      "text/plain": [
       "[[879386,\n",
       "  879387,\n",
       "  879388,\n",
       "  879389,\n",
       "  879390,\n",
       "  879391,\n",
       "  879392,\n",
       "  879393,\n",
       "  879394,\n",
       "  879395,\n",
       "  879396,\n",
       "  879397,\n",
       "  879398,\n",
       "  879399,\n",
       "  879400,\n",
       "  879401,\n",
       "  879402,\n",
       "  879403,\n",
       "  879404,\n",
       "  879405,\n",
       "  879406,\n",
       "  879407,\n",
       "  879408,\n",
       "  879409,\n",
       "  879410,\n",
       "  879411,\n",
       "  879412,\n",
       "  879413,\n",
       "  879414,\n",
       "  879415,\n",
       "  879416,\n",
       "  879417,\n",
       "  879418,\n",
       "  879419,\n",
       "  879420,\n",
       "  879421,\n",
       "  879422,\n",
       "  879423,\n",
       "  879424,\n",
       "  879425],\n",
       " [881253,\n",
       "  881254,\n",
       "  881255,\n",
       "  881256,\n",
       "  881257,\n",
       "  881258,\n",
       "  881259,\n",
       "  881260,\n",
       "  881261,\n",
       "  881262,\n",
       "  881263,\n",
       "  881264,\n",
       "  881265,\n",
       "  881266,\n",
       "  881267,\n",
       "  881268,\n",
       "  881269,\n",
       "  881270,\n",
       "  881271,\n",
       "  881272,\n",
       "  881273,\n",
       "  881274,\n",
       "  881275,\n",
       "  881276,\n",
       "  881277,\n",
       "  881278,\n",
       "  881279,\n",
       "  881280,\n",
       "  881281,\n",
       "  881282,\n",
       "  881283,\n",
       "  881284,\n",
       "  881285,\n",
       "  881286,\n",
       "  881287,\n",
       "  881288,\n",
       "  881289,\n",
       "  881290,\n",
       "  881291,\n",
       "  881292,\n",
       "  881293,\n",
       "  881294,\n",
       "  881295,\n",
       "  881296,\n",
       "  881297,\n",
       "  881298,\n",
       "  881299,\n",
       "  881300,\n",
       "  881301,\n",
       "  881302,\n",
       "  881303,\n",
       "  881304,\n",
       "  881305,\n",
       "  881306,\n",
       "  881307,\n",
       "  881308,\n",
       "  881309,\n",
       "  881310,\n",
       "  881311,\n",
       "  881312,\n",
       "  881313,\n",
       "  881314,\n",
       "  881315,\n",
       "  881316,\n",
       "  881317,\n",
       "  881318,\n",
       "  881319,\n",
       "  881320,\n",
       "  881321,\n",
       "  881322,\n",
       "  881323,\n",
       "  881324,\n",
       "  881325,\n",
       "  881326,\n",
       "  881327,\n",
       "  881328,\n",
       "  881329,\n",
       "  881330,\n",
       "  881331,\n",
       "  881332,\n",
       "  881333,\n",
       "  881334,\n",
       "  881335,\n",
       "  881336,\n",
       "  881337,\n",
       "  881338,\n",
       "  881339,\n",
       "  881340,\n",
       "  881341,\n",
       "  881342,\n",
       "  881343,\n",
       "  881344,\n",
       "  881345,\n",
       "  881346,\n",
       "  881347,\n",
       "  881348,\n",
       "  881349,\n",
       "  881350,\n",
       "  881351,\n",
       "  881352,\n",
       "  881353,\n",
       "  881354,\n",
       "  881355,\n",
       "  881356,\n",
       "  881357,\n",
       "  881358,\n",
       "  881359,\n",
       "  881360,\n",
       "  881361,\n",
       "  881362,\n",
       "  881363,\n",
       "  881364,\n",
       "  881365,\n",
       "  881366,\n",
       "  881367,\n",
       "  881368,\n",
       "  881369,\n",
       "  881370,\n",
       "  881371,\n",
       "  881372,\n",
       "  881373,\n",
       "  881374,\n",
       "  881375,\n",
       "  881376,\n",
       "  881377,\n",
       "  881378,\n",
       "  881379,\n",
       "  881380,\n",
       "  881381,\n",
       "  881382,\n",
       "  881383,\n",
       "  881384,\n",
       "  881385,\n",
       "  881386,\n",
       "  881387,\n",
       "  881388,\n",
       "  881389,\n",
       "  881390,\n",
       "  881391,\n",
       "  881392,\n",
       "  881393]]"
      ]
     },
     "execution_count": 130,
     "metadata": {},
     "output_type": "execute_result"
    }
   ],
   "source": [
    "pixel_groups[:2]"
   ]
  },
  {
   "cell_type": "code",
   "execution_count": 131,
   "metadata": {},
   "outputs": [
    {
     "data": {
      "text/plain": [
       "'879386 40 881253 141 883140 205 885009 17 885032 259 886923 308 888839 328 890754 340 892670 347 894587 352 896503 357 898420 360 900336 364 902253 367 904170 370 906086 374 908003 377 909920 379 911837 381 913754 384 915671 386 917588 388 919505 391 921422 393 923339 395 925256 397 927173 399 929090 401 931007 403 932925 404 934842 406 936759 408 938676 410 940593 412 942510 414 944428 415 946345 416 948262 418 950179 420 952097 421 954014 423 955931 425 957848 426 959766 427 961683 429 963600 431 965517 432 967435 433 969352 435 971269 437 973186 438 975104 439 977021 441 978938 442 980855 444 982773 445 984690 447 986607 448 988525 449 990442 451 992359 452 994277 453 996194 455 998111 456 1000028 458 1001946 459 1003863 460 1005780 462 1007698 463 1009615 464 1011532 466 1013450 467 1015367 468 1017284 470 1019202 471 1021119 472 1023036 474 1024954 475 1026871 476 1028788 478 1030706 479 1032623 480 1034540 482 1036458 482 1038375 484 1040292 486 1042210 486 1044127 488 1046044 490 1047962 490 1049879 492 1051796 493 1053714 494 1055631 496 1057549 496 1059466 498 1061383 499 1063301 500 1065218 501 1067135 503 1069053 504 1070970 505 1072888 506 1074805 507 1076722 509 1078640 510 1080557 511 1082475 512 1084392 513 1086309 515 1088227 516 1090144 517 1092062 518 1093979 519 1095897 520 1097814 521 1099731 523 1101649 524 1103566 525 1105484 526 1107401 527 1109319 528 1111236 529 1113153 531 1115071 532 1116988 533 1118906 534 1120823 535 1122741 536 1124658 537 1126576 538 1128493 539 1130410 541 1132328 542 1134245 543 1136163 544 1138080 545 1139920 31 1139998 546 1141835 47 1141915 547 1143751 57 1143833 548 1145667 61 1145750 550 1147584 63 1147668 550 1149501 65 1149585 552 1151418 66 1151503 552 1152090 30 1153336 66 1153420 554 1154004 42 1155253 67 1155337 555 1155920 51 1157171 67 1157255 556 1157837 57 1159088 68 1159172 557 1159754 61 1161006 68 1161090 558 1161672 64 1162923 69 1163007 560 1163589 66 1164841 69 1164925 560 1165507 68 1166759 69 1166842 562 1167424 70 1168676 70 1168760 562 1169342 70 1170594 70 1170677 564 1171260 71 1172512 70 1172595 564 1173178 71 1174430 70 1174512 566 1175096 72 1176347 71 1176430 567 1177014 72 1178265 70 1178347 568 1178932 72 1180183 70 1180265 569 1180850 72 1182101 70 1182182 570 1182767 73 1184019 70 1184100 571 1184685 74 1185937 70 1186017 572 1186603 74 1187854 71 1187935 573 1188521 74 1189772 71 1189852 574 1190439 74 1191690 71 1191770 575 1192357 74 1193608 71 1193687 577 1194275 74 1195526 71 1195605 577 1196193 74 1197444 71 1197522 579 1198111 74 1199362 71 1199440 579 1200029 74 1201280 658 1201947 74 1203198 741 1205116 741 1207035 739 1208953 739 1210872 738 1212791 737 1214710 736 1216630 733 1218551 730 1220472 727 1222392 724 1224314 720 1226235 716 1228156 712 1230079 706 1232002 699 1233926 691 1235851 680 1237776 669 1239701 654 1241623 640 1243540 631 1245458 618 1247376 604 1249293 605 1251211 605 1253128 606 1255046 607 1256963 608 1258881 608 1260798 610 1262715 611 1264633 612 1266550 613 1268467 615 1270385 615 1272302 617 1274219 619 1276136 620 1278053 622 1279970 624 1281887 626 1283804 627 1285721 629 1287637 632 1289554 634 1291471 636 1293388 638 1295304 641 1297221 643 1299138 645 1301054 648 1302971 651 1304887 654 1306804 656 1308721 659 1310637 663 1312554 666 1314471 669 1316387 673 1318304 676 1320221 679 1322138 682 1324055 685 1325972 687 1327889 690 1329806 692 1331723 695 1333640 697 1335558 698 1337475 700 1339392 702 1341310 703 1343227 705 1345144 707 1347062 707 1348979 709 1350896 711 1352814 712 1354731 714 1356649 714 1358566 716 1360484 717 1362401 718 1364319 719 1366237 719 1368154 721 1370072 722 1371989 723 1373907 723 1375824 725 1377742 725 1379660 726 1381577 727 1383495 728 1385412 729 1387330 730 1389247 731 1391165 732 1393082 733 1395000 734 1396918 734 1398835 736 1400753 736 1402670 738 1404588 738 1406505 740 1408423 740 1410340 742 1412258 742 1414175 743 1416093 744 1418010 745 1419928 746 1421845 747 1423763 748 1425680 749 1427598 750 1429515 751 1431433 752 1433350 753 1435268 754 1437185 755 1439103 755 1441020 757 1442937 758 1444855 759 1446772 760 1448690 761 1450607 762 1452525 763 1454442 764 1456360 764 1458278 765 1460195 766 1462113 767 1464030 768 1465948 769 1467866 769 1469783 771 1471701 771 1473619 771 1475536 773 1477454 773 1479372 774 1481289 775 1483207 776 1485125 776 1487042 777 1488960 778 1490878 778 1492796 778 1494713 780 1496631 780 1498549 781 1500467 781 1502384 782 1504302 783 1506220 783 1508138 783 1510056 784 1511973 785 1513891 785 1515809 785 1517727 786 1519645 786 1521563 786 1523480 787 1525398 788 1527316 788 1529234 788 1531152 788 1533070 789 1534987 790 1536905 790 1538823 790 1540741 790 1542659 791 1544577 791 1546495 791 1548412 792 1550330 792 1552248 792 1554166 792 1556084 793 1558002 793 1559919 794 1561837 794 1563755 794 1565673 794 1567591 794 1569509 795 1571427 795 1573345 795 1575262 796 1577180 796 1579098 796 1581016 796 1582934 796 1584852 796 1586770 796 1588687 798 1590605 798 1592523 798 1594441 798 1596359 798 1598277 798 1600195 798 1602113 798 1604030 799 1605948 799 1607866 799 1609784 799 1611702 799 1613620 799 1615538 800 1617456 800 1619374 800 1621291 801 1623209 801 1625127 801 1627045 801 1628963 801 1630881 801 1632799 801 1634717 801 1636635 801 1638553 801 1640470 802 1642388 802 1644306 802 1646224 803 1648142 803 1650060 803 1651978 803 1653896 803 1655814 803 1657732 803 1659650 803 1661568 803 1663486 803 1665404 803 1667322 803 1669239 804 1671157 804 1673075 804 1674993 804 1676911 804 1678829 804 1680747 804 1682665 804 1684583 805 1686501 805 1688419 805 1690337 805 1692255 805 1694173 805 1696091 805 1698009 805 1699927 805 1701845 805 1703763 805 1705681 805 1707599 805 1709517 805 1711435 805 1713353 805 1715271 805 1717189 805 1719107 805 1721025 805 1722943 805 1724861 805 1726779 805 1728697 805 1730615 805 1732533 805 1734451 805 1736369 805 1738287 805 1740205 805 1742123 805 1744041 805 1745959 805 1747877 805 1749795 805 1751713 805 1753631 805 1755549 805 1757467 805 1759385 805 1761303 805 1763221 805 1765140 804 1767058 804 1768976 804 1770894 804 1772812 804 1774730 804 1776648 804 1778566 804 1780484 804 1782402 804 1784320 804 1786238 804 1788156 803 1790074 803 1791992 803 1793911 802 1795829 802 1797747 802 1799665 802 1801583 802 1803501 802 1805419 802 1807337 802 1809255 802 1811173 802 1813091 802 1815010 801 1816928 801 1818846 801 1820764 801 1822682 801 1824600 801 1826518 801 1828436 801 1830354 801 1832272 801 1834190 801 1836108 800 1838026 800 1839943 801 1841861 801 1843779 801 1845697 801 1847615 801 1849533 801 1851451 801 1853369 801 1855287 801 1857205 801 1859123 801 1861041 801 1862959 801 1864877 801 1866795 801 1868713 800 1870631 800 1872549 800 1874467 800 1876385 800 1878303 800 1880221 800 1882139 800 1884057 800 1885975 800 1887893 800 1889811 800 1891730 799 1893648 798 1895566 798 1897484 798 1899402 798 1901320 798 1903238 798 1905157 797 1907075 797 1908993 797 1910911 796 1912829 796 1914748 795 1916666 795 1918584 795 1920502 795 1922421 794 1924339 794 1926257 793 1928176 792 1930094 792 1932012 792 1933931 791 1935849 791 1937767 790 1939686 789 1941604 789 1943522 789 1945440 789 1947359 787 1949277 787 1951195 787 1953114 786 1955032 786 1956950 785 1958868 785 1960787 784 1962705 784 1964623 783 1966541 783 1968460 782 1970378 781 1972296 781 1974214 781 1976133 780 1978051 779 1979969 779 1981887 779 1983806 777 1985724 777 1987642 777 1989561 775 1991479 775 1993397 775 1995315 774 1997234 773 1999152 773 2001070 773 2002989 771 2004907 771 2006825 771 2008744 769 2010662 769 2012581 768 2014499 767 2016418 766 2018336 765 2020255 764 2022174 763 2024092 762 2026011 761 2027930 759 2029849 758 2031768 756 2033687 755 2035606 753 2037525 751 2039444 749 2041364 747 2043283 745 2045203 742 2047123 739 2049043 736 2050964 731 2052885 727 2054806 722 2056729 716 2058651 710 2060575 702 2062499 693 2064424 684 2066349 674 2068276 661 2070203 648 2072131 633 2074060 618 2075992 599 2077924 580 2079857 559 2081793 535 2083729 510 2085669 479 2087611 444 2089562 397 2091525 329 2093510 219 2095486 87 '"
      ]
     },
     "execution_count": 131,
     "metadata": {},
     "output_type": "execute_result"
    }
   ],
   "source": [
    "rle_true = ''\n",
    "\n",
    "for group in pixel_groups:\n",
    "    \n",
    "    rle_true += (str(group[0]) + ' ')\n",
    "    \n",
    "    rle_true += (str(len(group)) + ' ')\n",
    "    \n",
    "rle_true"
   ]
  },
  {
   "cell_type": "code",
   "execution_count": 120,
   "metadata": {},
   "outputs": [
    {
     "data": {
      "text/plain": [
       "'879386 40 881253 141 883140 205 885009 17 885032 259 886923 308 888839 328 890754 340 892670 347 894587 352 896503 357 898420 360 900336 364 902253 367 904170 370 906086 374 908003 377 909920 379 911837 381 913754 384 915671 386 917588 388 919505 391 921422 393 923339 395 925256 397 927173 399 929090 401 931007 403 932925 404 934842 406 936759 408 938676 410 940593 412 942510 414 944428 415 946345 416 948262 418 950179 420 952097 421 954014 423 955931 425 957848 426 959766 427 961683 429 963600 431 965517 432 967435 433 969352 435 971269 437 973186 438 975104 439 977021 441 978938 442 980855 444 982773 445 984690 447 986607 448 988525 449 990442 451 992359 452 994277 453 996194 455 998111 456 1000028 458 1001946 459 1003863 460 1005780 462 1007698 463 1009615 464 1011532 466 1013450 467 1015367 468 1017284 470 1019202 471 1021119 472 1023036 474 1024954 475 1026871 476 1028788 478 1030706 479 1032623 480 1034540 482 1036458 482 1038375 484 1040292 486 1042210 486 1044127 488 1046044 490 1047962 490 1049879 492 1051796 493 1053714 494 1055631 496 1057549 496 1059466 498 1061383 499 1063301 500 1065218 501 1067135 503 1069053 504 1070970 505 1072888 506 1074805 507 1076722 509 1078640 510 1080557 511 1082475 512 1084392 513 1086309 515 1088227 516 1090144 517 1092062 518 1093979 519 1095897 520 1097814 521 1099731 523 1101649 524 1103566 525 1105484 526 1107401 527 1109319 528 1111236 529 1113153 531 1115071 532 1116988 533 1118906 534 1120823 535 1122741 536 1124658 537 1126576 538 1128493 539 1130410 541 1132328 542 1134245 543 1136163 544 1138080 545 1139920 31 1139998 546 1141835 47 1141915 547 1143751 57 1143833 548 1145667 61 1145750 550 1147584 63 1147668 550 1149501 65 1149585 552 1151418 66 1151503 552 1152090 30 1153336 66 1153420 554 1154004 42 1155253 67 1155337 555 1155920 51 1157171 67 1157255 556 1157837 57 1159088 68 1159172 557 1159754 61 1161006 68 1161090 558 1161672 64 1162923 69 1163007 560 1163589 66 1164841 69 1164925 560 1165507 68 1166759 69 1166842 562 1167424 70 1168676 70 1168760 562 1169342 70 1170594 70 1170677 564 1171260 71 1172512 70 1172595 564 1173178 71 1174430 70 1174512 566 1175096 72 1176347 71 1176430 567 1177014 72 1178265 70 1178347 568 1178932 72 1180183 70 1180265 569 1180850 72 1182101 70 1182182 570 1182767 73 1184019 70 1184100 571 1184685 74 1185937 70 1186017 572 1186603 74 1187854 71 1187935 573 1188521 74 1189772 71 1189852 574 1190439 74 1191690 71 1191770 575 1192357 74 1193608 71 1193687 577 1194275 74 1195526 71 1195605 577 1196193 74 1197444 71 1197522 579 1198111 74 1199362 71 1199440 579 1200029 74 1201280 658 1201947 74 1203198 741 1205116 741 1207035 739 1208953 739 1210872 738 1212791 737 1214710 736 1216630 733 1218551 730 1220472 727 1222392 724 1224314 720 1226235 716 1228156 712 1230079 706 1232002 699 1233926 691 1235851 680 1237776 669 1239701 654 1241623 640 1243540 631 1245458 618 1247376 604 1249293 605 1251211 605 1253128 606 1255046 607 1256963 608 1258881 608 1260798 610 1262715 611 1264633 612 1266550 613 1268467 615 1270385 615 1272302 617 1274219 619 1276136 620 1278053 622 1279970 624 1281887 626 1283804 627 1285721 629 1287637 632 1289554 634 1291471 636 1293388 638 1295304 641 1297221 643 1299138 645 1301054 648 1302971 651 1304887 654 1306804 656 1308721 659 1310637 663 1312554 666 1314471 669 1316387 673 1318304 676 1320221 679 1322138 682 1324055 685 1325972 687 1327889 690 1329806 692 1331723 695 1333640 697 1335558 698 1337475 700 1339392 702 1341310 703 1343227 705 1345144 707 1347062 707 1348979 709 1350896 711 1352814 712 1354731 714 1356649 714 1358566 716 1360484 717 1362401 718 1364319 719 1366237 719 1368154 721 1370072 722 1371989 723 1373907 723 1375824 725 1377742 725 1379660 726 1381577 727 1383495 728 1385412 729 1387330 730 1389247 731 1391165 732 1393082 733 1395000 734 1396918 734 1398835 736 1400753 736 1402670 738 1404588 738 1406505 740 1408423 740 1410340 742 1412258 742 1414175 743 1416093 744 1418010 745 1419928 746 1421845 747 1423763 748 1425680 749 1427598 750 1429515 751 1431433 752 1433350 753 1435268 754 1437185 755 1439103 755 1441020 757 1442937 758 1444855 759 1446772 760 1448690 761 1450607 762 1452525 763 1454442 764 1456360 764 1458278 765 1460195 766 1462113 767 1464030 768 1465948 769 1467866 769 1469783 771 1471701 771 1473619 771 1475536 773 1477454 773 1479372 774 1481289 775 1483207 776 1485125 776 1487042 777 1488960 778 1490878 778 1492796 778 1494713 780 1496631 780 1498549 781 1500467 781 1502384 782 1504302 783 1506220 783 1508138 783 1510056 784 1511973 785 1513891 785 1515809 785 1517727 786 1519645 786 1521563 786 1523480 787 1525398 788 1527316 788 1529234 788 1531152 788 1533070 789 1534987 790 1536905 790 1538823 790 1540741 790 1542659 791 1544577 791 1546495 791 1548412 792 1550330 792 1552248 792 1554166 792 1556084 793 1558002 793 1559919 794 1561837 794 1563755 794 1565673 794 1567591 794 1569509 795 1571427 795 1573345 795 1575262 796 1577180 796 1579098 796 1581016 796 1582934 796 1584852 796 1586770 796 1588687 798 1590605 798 1592523 798 1594441 798 1596359 798 1598277 798 1600195 798 1602113 798 1604030 799 1605948 799 1607866 799 1609784 799 1611702 799 1613620 799 1615538 800 1617456 800 1619374 800 1621291 801 1623209 801 1625127 801 1627045 801 1628963 801 1630881 801 1632799 801 1634717 801 1636635 801 1638553 801 1640470 802 1642388 802 1644306 802 1646224 803 1648142 803 1650060 803 1651978 803 1653896 803 1655814 803 1657732 803 1659650 803 1661568 803 1663486 803 1665404 803 1667322 803 1669239 804 1671157 804 1673075 804 1674993 804 1676911 804 1678829 804 1680747 804 1682665 804 1684583 805 1686501 805 1688419 805 1690337 805 1692255 805 1694173 805 1696091 805 1698009 805 1699927 805 1701845 805 1703763 805 1705681 805 1707599 805 1709517 805 1711435 805 1713353 805 1715271 805 1717189 805 1719107 805 1721025 805 1722943 805 1724861 805 1726779 805 1728697 805 1730615 805 1732533 805 1734451 805 1736369 805 1738287 805 1740205 805 1742123 805 1744041 805 1745959 805 1747877 805 1749795 805 1751713 805 1753631 805 1755549 805 1757467 805 1759385 805 1761303 805 1763221 805 1765140 804 1767058 804 1768976 804 1770894 804 1772812 804 1774730 804 1776648 804 1778566 804 1780484 804 1782402 804 1784320 804 1786238 804 1788156 803 1790074 803 1791992 803 1793911 802 1795829 802 1797747 802 1799665 802 1801583 802 1803501 802 1805419 802 1807337 802 1809255 802 1811173 802 1813091 802 1815010 801 1816928 801 1818846 801 1820764 801 1822682 801 1824600 801 1826518 801 1828436 801 1830354 801 1832272 801 1834190 801 1836108 800 1838026 800 1839943 801 1841861 801 1843779 801 1845697 801 1847615 801 1849533 801 1851451 801 1853369 801 1855287 801 1857205 801 1859123 801 1861041 801 1862959 801 1864877 801 1866795 801 1868713 800 1870631 800 1872549 800 1874467 800 1876385 800 1878303 800 1880221 800 1882139 800 1884057 800 1885975 800 1887893 800 1889811 800 1891730 799 1893648 798 1895566 798 1897484 798 1899402 798 1901320 798 1903238 798 1905157 797 1907075 797 1908993 797 1910911 796 1912829 796 1914748 795 1916666 795 1918584 795 1920502 795 1922421 794 1924339 794 1926257 793 1928176 792 1930094 792 1932012 792 1933931 791 1935849 791 1937767 790 1939686 789 1941604 789 1943522 789 1945440 789 1947359 787 1949277 787 1951195 787 1953114 786 1955032 786 1956950 785 1958868 785 1960787 784 1962705 784 1964623 783 1966541 783 1968460 782 1970378 781 1972296 781 1974214 781 1976133 780 1978051 779 1979969 779 1981887 779 1983806 777 1985724 777 1987642 777 1989561 775 1991479 775 1993397 775 1995315 774 1997234 773 1999152 773 2001070 773 2002989 771 2004907 771 2006825 771 2008744 769 2010662 769 2012581 768 2014499 767 2016418 766 2018336 765 2020255 764 2022174 763 2024092 762 2026011 761 2027930 759 2029849 758 2031768 756 2033687 755 2035606 753 2037525 751 2039444 749 2041364 747 2043283 745 2045203 742 2047123 739 2049043 736 2050964 731 2052885 727 2054806 722 2056729 716 2058651 710 2060575 702 2062499 693 2064424 684 2066349 674 2068276 661 2070203 648 2072131 633 2074060 618 2075992 599 2077924 580 2079857 559 2081793 535 2083729 510 2085669 479 2087611 444 2089562 397 2091525 329 2093510 219 2095486 87'"
      ]
     },
     "execution_count": 120,
     "metadata": {},
     "output_type": "execute_result"
    }
   ],
   "source": []
  },
  {
   "cell_type": "code",
   "execution_count": 122,
   "metadata": {},
   "outputs": [
    {
     "data": {
      "text/html": [
       "<div>\n",
       "<style scoped>\n",
       "    .dataframe tbody tr th:only-of-type {\n",
       "        vertical-align: middle;\n",
       "    }\n",
       "\n",
       "    .dataframe tbody tr th {\n",
       "        vertical-align: top;\n",
       "    }\n",
       "\n",
       "    .dataframe thead th {\n",
       "        text-align: right;\n",
       "    }\n",
       "</style>\n",
       "<table border=\"1\" class=\"dataframe\">\n",
       "  <thead>\n",
       "    <tr style=\"text-align: right;\">\n",
       "      <th></th>\n",
       "      <th>img</th>\n",
       "      <th>rle_mask</th>\n",
       "    </tr>\n",
       "  </thead>\n",
       "  <tbody>\n",
       "    <tr>\n",
       "      <th>0</th>\n",
       "      <td>0004d4463b50_01.jpg</td>\n",
       "      <td>1 1</td>\n",
       "    </tr>\n",
       "    <tr>\n",
       "      <th>1</th>\n",
       "      <td>0004d4463b50_02.jpg</td>\n",
       "      <td>1 1</td>\n",
       "    </tr>\n",
       "    <tr>\n",
       "      <th>2</th>\n",
       "      <td>0004d4463b50_03.jpg</td>\n",
       "      <td>1 1</td>\n",
       "    </tr>\n",
       "    <tr>\n",
       "      <th>3</th>\n",
       "      <td>0004d4463b50_04.jpg</td>\n",
       "      <td>1 1</td>\n",
       "    </tr>\n",
       "    <tr>\n",
       "      <th>4</th>\n",
       "      <td>0004d4463b50_05.jpg</td>\n",
       "      <td>1 1</td>\n",
       "    </tr>\n",
       "  </tbody>\n",
       "</table>\n",
       "</div>"
      ],
      "text/plain": [
       "                   img rle_mask\n",
       "0  0004d4463b50_01.jpg      1 1\n",
       "1  0004d4463b50_02.jpg      1 1\n",
       "2  0004d4463b50_03.jpg      1 1\n",
       "3  0004d4463b50_04.jpg      1 1\n",
       "4  0004d4463b50_05.jpg      1 1"
      ]
     },
     "execution_count": 122,
     "metadata": {},
     "output_type": "execute_result"
    }
   ],
   "source": [
    "sample_sub = pd.read_csv('data/sample_submission.csv')\n",
    "sample_sub.head()"
   ]
  },
  {
   "cell_type": "code",
   "execution_count": 123,
   "metadata": {},
   "outputs": [
    {
     "data": {
      "text/plain": [
       "img         object\n",
       "rle_mask    object\n",
       "dtype: object"
      ]
     },
     "execution_count": 123,
     "metadata": {},
     "output_type": "execute_result"
    }
   ],
   "source": [
    "sample_sub.dtypes"
   ]
  },
  {
   "cell_type": "code",
   "execution_count": 39,
   "metadata": {},
   "outputs": [],
   "source": [
    "def rle_encode(tf_img):\n",
    "\n",
    "    img_array = np.array(tf_img)\n",
    "\n",
    "    pixels = []\n",
    "\n",
    "    for i in range(img_array.shape[0]):\n",
    "\n",
    "        for j in range(img_array.shape[1]):\n",
    "\n",
    "            if img_array[i][j] != 0.0:\n",
    "                \n",
    "                pix = ((i * 1918) + j + 1)\n",
    "                pixels.append(pix)\n",
    "\n",
    "    pixel_breaks = [0]\n",
    "\n",
    "    for i in range(len(pixels) - 1):\n",
    "\n",
    "        if pixels[i] != ((pixels[i+1]) - 1):\n",
    "\n",
    "            pixel_breaks.append(i+1)\n",
    "\n",
    "    pixel_breaks.append(len(pixels))\n",
    "\n",
    "    rle_mask = ''\n",
    "\n",
    "    for i in range(len(pixel_breaks) - 1):\n",
    "\n",
    "        rle_mask += (str(pixels[pixel_breaks[i]]) + ' ')\n",
    "        rle_mask += (str(pixel_breaks[i+1] - pixel_breaks[i]) + ' ')\n",
    "\n",
    "    return rle_mask[:-1]"
   ]
  },
  {
   "cell_type": "code",
   "execution_count": 40,
   "metadata": {},
   "outputs": [],
   "source": [
    "img_test = Image.open('data/sample_masks/00087a6bd4dc_03_mask.gif')"
   ]
  },
  {
   "cell_type": "code",
   "execution_count": 41,
   "metadata": {},
   "outputs": [
    {
     "data": {
      "text/plain": [
       "<matplotlib.image.AxesImage at 0x7f9815587fd0>"
      ]
     },
     "execution_count": 41,
     "metadata": {},
     "output_type": "execute_result"
    },
    {
     "data": {
      "image/png": "[encoded data removed]",
      "text/plain": [
       "<Figure size 432x288 with 1 Axes>"
      ]
     },
     "metadata": {
      "needs_background": "light"
     },
     "output_type": "display_data"
    }
   ],
   "source": [
    "plt.imshow(img_test)"
   ]
  },
  {
   "cell_type": "code",
   "execution_count": 42,
   "metadata": {},
   "outputs": [],
   "source": [
    "img_test_arr = np.array(img_test)"
   ]
  },
  {
   "cell_type": "code",
   "execution_count": 43,
   "metadata": {},
   "outputs": [],
   "source": [
    "rle2 = rle_encode(img_test_arr)"
   ]
  },
  {
   "cell_type": "code",
   "execution_count": 44,
   "metadata": {},
   "outputs": [
    {
     "data": {
      "text/plain": [
       "'864300 9 866217 13 868134 15 870051 16 871969 16 873887 16 875803 18 877719 21 879635 24 881551 26 883274 98 883467 29 885145 227 885383 31 887041 291 888941 322 890845 348 892752 369 894661 387 896572 402 898483 416 900394 430 902307 441 904220 452 906133 462 908046 473 909960 481 911874 490 913789 497 915703 505 917618 512 919532 520 921447 526 923362 533 925277 539 927193 544 929108 550 931023 555 932938 561 934853 567 936769 571 938684 576 940600 581 942515 586 944431 590 946346 595 948262 599 950178 603 952094 607 954009 612 955925 616 957841 620 959757 624 961673 627 963589 631 965505 635 967421 638 969337 642 971254 645 973170 648 975086 652 977002 655 978918 659 980834 662 982750 666 984666 669 986583 672 988499 675 990415 679 992331 682 994248 685 996164 688 998080 691 999996 695 1001913 697 1003829 700 1005745 704 1007661 707 1009578 710 1011494 713 1013410 716 1015327 719 1017243 722 1019159 725 1021076 728 1022992 731 1024908 735 1026825 737 1028741 740 1030657 744 1032574 746 1034490 749 1036406 753 1038323 755 1040239 759 1042156 761 1044072 764 1045988 768 1047905 770 1049821 774 1051737 777 1053654 780 1055570 783 1057487 786 1059403 790 1061319 794 1063236 796 1065152 801 1067069 804 1068985 808 1070902 813 1072818 819 1074735 826 1076651 833 1078567 837 1080484 840 1082400 843 1084317 845 1086233 848 1088150 849 1090066 852 1091983 854 1093899 856 1095816 858 1097732 861 1099648 863 1101565 865 1103481 868 1105398 869 1107314 872 1109231 873 1111147 876 1113064 877 1114980 880 1116897 883 1118813 889 1120730 895 1122646 900 1124563 904 1126479 907 1128395 911 1130312 912 1132228 915 1134145 916 1136061 918 1137977 921 1139893 923 1141810 924 1143726 926 1145642 928 1147558 930 1149474 933 1151390 935 1153305 938 1155221 940 1157137 942 1159052 945 1160968 947 1162884 949 1164799 952 1166714 955 1168628 959 1170543 962 1172457 966 1174371 970 1176285 974 1178200 977 1180114 981 1182028 985 1183942 989 1185856 993 1187770 997 1189684 1001 1191598 1005 1193512 1009 1195426 1012 1197341 1015 1199255 1019 1201169 1023 1203083 1027 1204997 1031 1206912 1034 1208826 1038 1210740 1042 1212654 1046 1214569 1049 1216483 1054 1218397 1058 1220312 1061 1222226 1065 1224141 1068 1226055 1072 1227970 1075 1229884 1079 1231799 1082 1233714 1086 1235628 1090 1237543 1093 1239458 1096 1241372 1100 1243287 1103 1245202 1107 1247117 1110 1249032 1113 1250947 1116 1252862 1119 1254777 1122 1256692 1126 1258607 1129 1260522 1132 1262437 1135 1264352 1138 1266267 1141 1268183 1144 1270098 1147 1272013 1150 1273928 1153 1275844 1155 1277759 1158 1279674 1162 1281590 1164 1283505 1167 1285420 1170 1287336 1172 1289251 1175 1291167 1178 1293082 1181 1294998 1183 1296913 1186 1298829 1188 1300744 1192 1302660 1194 1304576 1196 1306491 1200 1308407 1202 1310323 1204 1312239 1206 1314155 1209 1316070 1212 1317986 1214 1319902 1216 1321818 1218 1323734 1220 1325650 1222 1327566 1224 1329482 1226 1331398 1228 1333314 1230 1335230 1232 1337147 1233 1339063 1235 1340979 1237 1342895 1239 1344812 1240 1346728 1242 1348645 1242 1350561 1244 1352477 1246 1354394 1247 1356311 1248 1358227 1250 1360144 1251 1362060 1252 1363977 1253 1365894 1254 1367811 1255 1369726 1258 1371641 1260 1373557 1262 1375473 1264 1377389 1266 1379306 1266 1381223 1267 1383140 1268 1385058 1268 1386975 1269 1388892 1269 1390810 1269 1392728 1269 1394645 1270 1396563 1270 1398481 1270 1400399 1269 1402317 1269 1404235 1269 1406153 1269 1408070 1270 1409988 1269 1411906 1269 1413824 1269 1415742 1269 1417660 1268 1419578 1268 1421496 1268 1423414 1267 1425332 1267 1427250 1266 1429167 1267 1431085 1266 1433003 1265 1434921 1265 1436838 1265 1438756 1264 1440674 1264 1442592 1263 1444509 1263 1446427 1262 1448344 1263 1450262 1262 1452180 1261 1454097 1261 1456014 1261 1457931 1262 1459848 1262 1461765 1262 1463681 1263 1465598 1263 1467515 1263 1469432 1264 1471349 1264 1473266 1264 1475183 1264 1477100 1264 1479017 1264 1480934 1265 1482851 1265 1484769 1264 1486686 1264 1488603 1264 1490520 1264 1492437 1264 1494354 1265 1496271 1265 1498188 1265 1500105 1265 1502022 1265 1503939 1265 1505856 1265 1507773 1265 1509691 1264 1511608 1265 1513525 1265 1515443 1264 1517360 1264 1519277 1265 1521195 1265 1523112 1266 1525030 1265 1526947 1266 1528865 1266 1530782 1267 1532700 1267 1534617 1268 1536535 1268 1538452 1268 1540370 1268 1542287 1269 1544205 1269 1546123 1269 1548040 1269 1549958 1269 1551876 1269 1553793 1270 1555711 1270 1557629 1269 1559547 1269 1561464 1270 1563382 1270 1565300 1270 1567218 1269 1569136 1269 1571053 1270 1572971 1270 1574889 1269 1576807 1269 1578725 1269 1580643 1268 1582561 1268 1584479 1268 1586397 1267 1588315 1267 1590233 1267 1592151 1267 1594069 1266 1595987 1266 1597905 1265 1599823 1265 1601741 1265 1603659 1264 1605577 1264 1607495 1264 1609413 1263 1611331 1263 1613249 1262 1615167 1262 1617085 1261 1619003 1261 1620921 1260 1622839 1260 1624757 1259 1626675 1259 1628593 1258 1630512 1145 1631659 110 1632430 1142 1633578 108 1634348 1139 1635496 108 1636266 1136 1637415 106 1638184 1133 1639333 105 1640102 1130 1641252 104 1642020 1127 1643171 102 1643938 1123 1645089 101 1645856 1120 1647008 100 1647774 1117 1648926 99 1649692 1114 1650845 97 1651610 1111 1652764 95 1653528 1108 1654683 93 1655446 1105 1656602 92 1657364 1102 1658521 90 1659282 1099 1660440 88 1661200 1096 1662360 85 1663119 1091 1664279 82 1665037 1088 1666199 79 1666955 1085 1668120 75 1668873 1082 1670040 72 1670791 1079 1671961 67 1672709 1076 1673882 63 1674627 1073 1675804 57 1676545 1070 1677725 52 1678463 1067 1679647 46 1680382 1063 1681569 39 1682300 1060 1683492 31 1684218 1056 1685417 20 1686136 1053 1688054 1050 1689972 1047 1691890 1044 1693809 1040 1695727 1037 1697645 1034 1699563 1031 1701481 1028 1703400 1023 1705318 1020 1707236 1017 1709154 1014 1711073 1010 1712991 1007 1714909 1004 1716827 1001 1718746 997 1720664 993 1722581 991 1724499 988 1726417 985 1728335 982 1730253 979 1732171 976 1734089 972 1736008 968 1737926 965 1739844 962 1741762 959 1743680 956 1745598 952 1747516 949 1749434 946 1751353 942 1753271 939 1755189 936 1757107 933 1759025 929 1760944 925 1762862 922 1764780 919 1766698 916 1768616 913 1770533 911 1772451 907 1774368 905 1776286 902 1778204 899 1780121 897 1782039 894 1783957 891 1785874 889 1787792 886 1789709 884 1791627 881 1793545 878 1795462 876 1797380 873 1799298 870 1801216 867 1803133 866 1805051 863 1806969 860 1808887 857 1810805 855 1812723 852 1814641 850 1816559 847 1818477 845 1820395 842 1822313 840 1824232 836 1826150 834 1828068 832 1829987 828 1831905 826 1833824 823 1835743 819 1837662 816 1839581 813 1841500 809 1843419 806 1845339 802 1847258 799 1849177 795 1851097 791 1853017 786 1854936 783 1856856 778 1858776 773 1860695 769 1862615 764 1864535 740 1865280 13 1866454 738 1868374 736 1870294 734 1872214 731 1874133 730 1876053 728 1877973 725 1879892 724 1881812 722 1883732 719 1885652 717 1887572 715 1889492 712 1891411 711 1893331 709 1895251 706 1897172 703 1899092 701 1901012 698 1902932 696 1904852 694 1906772 691 1908693 688 1910613 686 1912534 682 1914454 680 1916375 677 1918295 674 1920216 671 1922137 668 1924057 665 1925978 662 1927899 659 1929820 655 1931741 652 1933662 649 1935583 645 1937504 642 1939425 638 1941346 635 1943267 632 1945188 628 1947110 624 1949031 620 1950953 616 1952874 613 1954795 609 1956717 605 1958639 600 1960560 597 1962482 592 1964404 588 1966325 584 1968247 580 1970168 576 1972090 572 1974012 567 1975933 564 1977855 559 1979777 554 1981699 550 1983620 546 1985542 541 1987464 537 1989386 532 1991308 527 1993229 524 1995151 519 1997073 514 1998995 510 2000917 505 2002840 499 2004762 494 2006684 489 2008606 485 2010528 480 2012450 475 2014373 469 2016296 463 2018218 458 2020141 275 2020418 175 2022063 268 2022337 173 2023986 260 2024256 171 2025908 254 2026175 169 2027831 246 2028094 167 2029754 240 2030013 165 2031677 235 2031932 163 2033600 230 2033852 160 2035523 226 2035771 158 2037446 221 2037690 156 2039369 216 2039610 153 2041292 211 2041529 150 2043217 204 2043448 148 2045141 198 2045368 145 2047068 189 2047287 143 2048994 131 2049133 42 2049207 140 2050922 112 2051065 28 2051126 137 2052851 90 2053001 7 2053046 134 2054781 67 2054966 131 2056718 29 2056886 127 2058805 125 2060725 121 2062645 118 2064565 114 2066485 110 2068406 105 2070326 102 2072246 98 2074167 93 2076087 88 2078008 83 2079929 77 2081850 72 2083771 65 2085693 58 2087616 49 2089539 40 2091464 26'"
      ]
     },
     "execution_count": 44,
     "metadata": {},
     "output_type": "execute_result"
    }
   ],
   "source": [
    "rle2"
   ]
  },
  {
   "cell_type": "code",
   "execution_count": 45,
   "metadata": {},
   "outputs": [
    {
     "data": {
      "text/plain": [
       "'864300 9 866217 13 868134 15 870051 16 871969 16 873887 16 875803 18 877719 21 879635 24 881551 26 883274 98 883467 29 885145 227 885383 31 887041 291 888941 322 890845 348 892752 369 894661 387 896572 402 898483 416 900394 430 902307 441 904220 452 906133 462 908046 473 909960 481 911874 490 913789 497 915703 505 917618 512 919532 520 921447 526 923362 533 925277 539 927193 544 929108 550 931023 555 932938 561 934853 567 936769 571 938684 576 940600 581 942515 586 944431 590 946346 595 948262 599 950178 603 952094 607 954009 612 955925 616 957841 620 959757 624 961673 627 963589 631 965505 635 967421 638 969337 642 971254 645 973170 648 975086 652 977002 655 978918 659 980834 662 982750 666 984666 669 986583 672 988499 675 990415 679 992331 682 994248 685 996164 688 998080 691 999996 695 1001913 697 1003829 700 1005745 704 1007661 707 1009578 710 1011494 713 1013410 716 1015327 719 1017243 722 1019159 725 1021076 728 1022992 731 1024908 735 1026825 737 1028741 740 1030657 744 1032574 746 1034490 749 1036406 753 1038323 755 1040239 759 1042156 761 1044072 764 1045988 768 1047905 770 1049821 774 1051737 777 1053654 780 1055570 783 1057487 786 1059403 790 1061319 794 1063236 796 1065152 801 1067069 804 1068985 808 1070902 813 1072818 819 1074735 826 1076651 833 1078567 837 1080484 840 1082400 843 1084317 845 1086233 848 1088150 849 1090066 852 1091983 854 1093899 856 1095816 858 1097732 861 1099648 863 1101565 865 1103481 868 1105398 869 1107314 872 1109231 873 1111147 876 1113064 877 1114980 880 1116897 883 1118813 889 1120730 895 1122646 900 1124563 904 1126479 907 1128395 911 1130312 912 1132228 915 1134145 916 1136061 918 1137977 921 1139893 923 1141810 924 1143726 926 1145642 928 1147558 930 1149474 933 1151390 935 1153305 938 1155221 940 1157137 942 1159052 945 1160968 947 1162884 949 1164799 952 1166714 955 1168628 959 1170543 962 1172457 966 1174371 970 1176285 974 1178200 977 1180114 981 1182028 985 1183942 989 1185856 993 1187770 997 1189684 1001 1191598 1005 1193512 1009 1195426 1012 1197341 1015 1199255 1019 1201169 1023 1203083 1027 1204997 1031 1206912 1034 1208826 1038 1210740 1042 1212654 1046 1214569 1049 1216483 1054 1218397 1058 1220312 1061 1222226 1065 1224141 1068 1226055 1072 1227970 1075 1229884 1079 1231799 1082 1233714 1086 1235628 1090 1237543 1093 1239458 1096 1241372 1100 1243287 1103 1245202 1107 1247117 1110 1249032 1113 1250947 1116 1252862 1119 1254777 1122 1256692 1126 1258607 1129 1260522 1132 1262437 1135 1264352 1138 1266267 1141 1268183 1144 1270098 1147 1272013 1150 1273928 1153 1275844 1155 1277759 1158 1279674 1162 1281590 1164 1283505 1167 1285420 1170 1287336 1172 1289251 1175 1291167 1178 1293082 1181 1294998 1183 1296913 1186 1298829 1188 1300744 1192 1302660 1194 1304576 1196 1306491 1200 1308407 1202 1310323 1204 1312239 1206 1314155 1209 1316070 1212 1317986 1214 1319902 1216 1321818 1218 1323734 1220 1325650 1222 1327566 1224 1329482 1226 1331398 1228 1333314 1230 1335230 1232 1337147 1233 1339063 1235 1340979 1237 1342895 1239 1344812 1240 1346728 1242 1348645 1242 1350561 1244 1352477 1246 1354394 1247 1356311 1248 1358227 1250 1360144 1251 1362060 1252 1363977 1253 1365894 1254 1367811 1255 1369726 1258 1371641 1260 1373557 1262 1375473 1264 1377389 1266 1379306 1266 1381223 1267 1383140 1268 1385058 1268 1386975 1269 1388892 1269 1390810 1269 1392728 1269 1394645 1270 1396563 1270 1398481 1270 1400399 1269 1402317 1269 1404235 1269 1406153 1269 1408070 1270 1409988 1269 1411906 1269 1413824 1269 1415742 1269 1417660 1268 1419578 1268 1421496 1268 1423414 1267 1425332 1267 1427250 1266 1429167 1267 1431085 1266 1433003 1265 1434921 1265 1436838 1265 1438756 1264 1440674 1264 1442592 1263 1444509 1263 1446427 1262 1448344 1263 1450262 1262 1452180 1261 1454097 1261 1456014 1261 1457931 1262 1459848 1262 1461765 1262 1463681 1263 1465598 1263 1467515 1263 1469432 1264 1471349 1264 1473266 1264 1475183 1264 1477100 1264 1479017 1264 1480934 1265 1482851 1265 1484769 1264 1486686 1264 1488603 1264 1490520 1264 1492437 1264 1494354 1265 1496271 1265 1498188 1265 1500105 1265 1502022 1265 1503939 1265 1505856 1265 1507773 1265 1509691 1264 1511608 1265 1513525 1265 1515443 1264 1517360 1264 1519277 1265 1521195 1265 1523112 1266 1525030 1265 1526947 1266 1528865 1266 1530782 1267 1532700 1267 1534617 1268 1536535 1268 1538452 1268 1540370 1268 1542287 1269 1544205 1269 1546123 1269 1548040 1269 1549958 1269 1551876 1269 1553793 1270 1555711 1270 1557629 1269 1559547 1269 1561464 1270 1563382 1270 1565300 1270 1567218 1269 1569136 1269 1571053 1270 1572971 1270 1574889 1269 1576807 1269 1578725 1269 1580643 1268 1582561 1268 1584479 1268 1586397 1267 1588315 1267 1590233 1267 1592151 1267 1594069 1266 1595987 1266 1597905 1265 1599823 1265 1601741 1265 1603659 1264 1605577 1264 1607495 1264 1609413 1263 1611331 1263 1613249 1262 1615167 1262 1617085 1261 1619003 1261 1620921 1260 1622839 1260 1624757 1259 1626675 1259 1628593 1258 1630512 1145 1631659 110 1632430 1142 1633578 108 1634348 1139 1635496 108 1636266 1136 1637415 106 1638184 1133 1639333 105 1640102 1130 1641252 104 1642020 1127 1643171 102 1643938 1123 1645089 101 1645856 1120 1647008 100 1647774 1117 1648926 99 1649692 1114 1650845 97 1651610 1111 1652764 95 1653528 1108 1654683 93 1655446 1105 1656602 92 1657364 1102 1658521 90 1659282 1099 1660440 88 1661200 1096 1662360 85 1663119 1091 1664279 82 1665037 1088 1666199 79 1666955 1085 1668120 75 1668873 1082 1670040 72 1670791 1079 1671961 67 1672709 1076 1673882 63 1674627 1073 1675804 57 1676545 1070 1677725 52 1678463 1067 1679647 46 1680382 1063 1681569 39 1682300 1060 1683492 31 1684218 1056 1685417 20 1686136 1053 1688054 1050 1689972 1047 1691890 1044 1693809 1040 1695727 1037 1697645 1034 1699563 1031 1701481 1028 1703400 1023 1705318 1020 1707236 1017 1709154 1014 1711073 1010 1712991 1007 1714909 1004 1716827 1001 1718746 997 1720664 993 1722581 991 1724499 988 1726417 985 1728335 982 1730253 979 1732171 976 1734089 972 1736008 968 1737926 965 1739844 962 1741762 959 1743680 956 1745598 952 1747516 949 1749434 946 1751353 942 1753271 939 1755189 936 1757107 933 1759025 929 1760944 925 1762862 922 1764780 919 1766698 916 1768616 913 1770533 911 1772451 907 1774368 905 1776286 902 1778204 899 1780121 897 1782039 894 1783957 891 1785874 889 1787792 886 1789709 884 1791627 881 1793545 878 1795462 876 1797380 873 1799298 870 1801216 867 1803133 866 1805051 863 1806969 860 1808887 857 1810805 855 1812723 852 1814641 850 1816559 847 1818477 845 1820395 842 1822313 840 1824232 836 1826150 834 1828068 832 1829987 828 1831905 826 1833824 823 1835743 819 1837662 816 1839581 813 1841500 809 1843419 806 1845339 802 1847258 799 1849177 795 1851097 791 1853017 786 1854936 783 1856856 778 1858776 773 1860695 769 1862615 764 1864535 740 1865280 13 1866454 738 1868374 736 1870294 734 1872214 731 1874133 730 1876053 728 1877973 725 1879892 724 1881812 722 1883732 719 1885652 717 1887572 715 1889492 712 1891411 711 1893331 709 1895251 706 1897172 703 1899092 701 1901012 698 1902932 696 1904852 694 1906772 691 1908693 688 1910613 686 1912534 682 1914454 680 1916375 677 1918295 674 1920216 671 1922137 668 1924057 665 1925978 662 1927899 659 1929820 655 1931741 652 1933662 649 1935583 645 1937504 642 1939425 638 1941346 635 1943267 632 1945188 628 1947110 624 1949031 620 1950953 616 1952874 613 1954795 609 1956717 605 1958639 600 1960560 597 1962482 592 1964404 588 1966325 584 1968247 580 1970168 576 1972090 572 1974012 567 1975933 564 1977855 559 1979777 554 1981699 550 1983620 546 1985542 541 1987464 537 1989386 532 1991308 527 1993229 524 1995151 519 1997073 514 1998995 510 2000917 505 2002840 499 2004762 494 2006684 489 2008606 485 2010528 480 2012450 475 2014373 469 2016296 463 2018218 458 2020141 275 2020418 175 2022063 268 2022337 173 2023986 260 2024256 171 2025908 254 2026175 169 2027831 246 2028094 167 2029754 240 2030013 165 2031677 235 2031932 163 2033600 230 2033852 160 2035523 226 2035771 158 2037446 221 2037690 156 2039369 216 2039610 153 2041292 211 2041529 150 2043217 204 2043448 148 2045141 198 2045368 145 2047068 189 2047287 143 2048994 131 2049133 42 2049207 140 2050922 112 2051065 28 2051126 137 2052851 90 2053001 7 2053046 134 2054781 67 2054966 131 2056718 29 2056886 127 2058805 125 2060725 121 2062645 118 2064565 114 2066485 110 2068406 105 2070326 102 2072246 98 2074167 93 2076087 88 2078008 83 2079929 77 2081850 72 2083771 65 2085693 58 2087616 49 2089539 40 2091464 26'"
      ]
     },
     "execution_count": 45,
     "metadata": {},
     "output_type": "execute_result"
    }
   ],
   "source": [
    "rle_data.iloc[2, 1]"
   ]
  },
  {
   "cell_type": "code",
   "execution_count": null,
   "metadata": {},
   "outputs": [],
   "source": []
  }
 ],
 "metadata": {
  "kernelspec": {
   "display_name": "Python 3",
   "language": "python",
   "name": "python3"
  },
  "language_info": {
   "codemirror_mode": {
    "name": "ipython",
    "version": 3
   },
   "file_extension": ".py",
   "mimetype": "text/x-python",
   "name": "python",
   "nbconvert_exporter": "python",
   "pygments_lexer": "ipython3",
   "version": "3.8.5"
  }
 },
 "nbformat": 4,
 "nbformat_minor": 4
}
